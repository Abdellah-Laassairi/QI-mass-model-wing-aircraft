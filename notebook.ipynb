{
 "cells": [
  {
   "attachments": {},
   "cell_type": "markdown",
   "metadata": {},
   "source": [
    "# Projet QI : Étude du modèle de masse de l’aile de l’avion CESSNA C172 Skyhawk\n",
    "\n",
    "Réalisé par : \n",
    "- Abdellah LAASSAIRI\n",
    "- Paul Léchevin\n",
    "\n",
    "Project Github repository : [github.com/Abdellah-Laassairi/QI-mass-model-wing-aircraft](https://github.com/Abdellah-Laassairi/QI-mass-model-wing-aircraft)"
   ]
  },
  {
   "cell_type": "code",
   "execution_count": 551,
   "metadata": {},
   "outputs": [],
   "source": [
    "from IPython.display import display, Latex\n",
    "import openturns as ot\n",
    "import pandas as pd\n",
    "import seaborn as sb\n",
    "import numpy as np\n",
    "import matplotlib.pyplot as plt\n",
    "import plotly.express as px\n",
    "\n",
    "etude = ot.Study()\n",
    "etude.load()\n",
    "etude.setStorageManager(ot.XMLH5StorageManager(\"study/Project_QI.xml\"))\n",
    "etude.save()"
   ]
  },
  {
   "attachments": {},
   "cell_type": "markdown",
   "metadata": {},
   "source": [
    "## 3.1 Chargement du cas test\n",
    "> 1. Charger la classe WingWeightModel."
   ]
  },
  {
   "cell_type": "code",
   "execution_count": 552,
   "metadata": {},
   "outputs": [],
   "source": [
    "from openturns.usecases.wingweight_function import WingWeightModel"
   ]
  },
  {
   "cell_type": "markdown",
   "metadata": {},
   "source": [
    "> 2. Copier la distribution jointe des sources d’incertitude dans la variable distribution_entrees."
   ]
  },
  {
   "cell_type": "code",
   "execution_count": 553,
   "metadata": {},
   "outputs": [],
   "source": [
    "wing_weight_model = WingWeightModel()\n",
    "distribution_entrees = wing_weight_model.distributionX"
   ]
  },
  {
   "cell_type": "code",
   "execution_count": 554,
   "metadata": {},
   "outputs": [],
   "source": [
    "# Les distributions\n",
    "Sw,Wfw,A,Lambda,q,l,tc,Nz,Wdg,Wp = [distribution_entrees.getMarginal(i).getImplementation() for i in range(distribution_entrees.getDimension())]\n",
    "copule = distribution_entrees.getCopula().getImplementation()"
   ]
  },
  {
   "cell_type": "markdown",
   "metadata": {},
   "source": [
    "> 3. Copier la liste des identifiants de ces sources d’incertitude dans la variable nom_sources."
   ]
  },
  {
   "cell_type": "code",
   "execution_count": 555,
   "metadata": {},
   "outputs": [
    {
     "data": {
      "text/latex": [
       "$S_w$ $\\sim $ Uniform(a = 150, b = 200)"
      ],
      "text/plain": [
       "<IPython.core.display.Latex object>"
      ]
     },
     "metadata": {},
     "output_type": "display_data"
    },
    {
     "data": {
      "text/latex": [
       "$W_{fw}$ $\\sim $ Uniform(a = 220, b = 300)"
      ],
      "text/plain": [
       "<IPython.core.display.Latex object>"
      ]
     },
     "metadata": {},
     "output_type": "display_data"
    },
    {
     "data": {
      "text/latex": [
       "$A$ $\\sim $ Uniform(a = 6, b = 10)"
      ],
      "text/plain": [
       "<IPython.core.display.Latex object>"
      ]
     },
     "metadata": {},
     "output_type": "display_data"
    },
    {
     "data": {
      "text/latex": [
       "$\\Lambda$ $\\sim $ Uniform(a = -10, b = 10)"
      ],
      "text/plain": [
       "<IPython.core.display.Latex object>"
      ]
     },
     "metadata": {},
     "output_type": "display_data"
    },
    {
     "data": {
      "text/latex": [
       "$q$ $\\sim $ Uniform(a = 16, b = 45)"
      ],
      "text/plain": [
       "<IPython.core.display.Latex object>"
      ]
     },
     "metadata": {},
     "output_type": "display_data"
    },
    {
     "data": {
      "text/latex": [
       "$l$ $\\sim $ Uniform(a = 0.5, b = 1)"
      ],
      "text/plain": [
       "<IPython.core.display.Latex object>"
      ]
     },
     "metadata": {},
     "output_type": "display_data"
    },
    {
     "data": {
      "text/latex": [
       "$t_c$ $\\sim $ Uniform(a = 0.08, b = 0.18)"
      ],
      "text/plain": [
       "<IPython.core.display.Latex object>"
      ]
     },
     "metadata": {},
     "output_type": "display_data"
    },
    {
     "data": {
      "text/latex": [
       "$N_z$ $\\sim $ Uniform(a = 2.5, b = 6)"
      ],
      "text/plain": [
       "<IPython.core.display.Latex object>"
      ]
     },
     "metadata": {},
     "output_type": "display_data"
    },
    {
     "data": {
      "text/latex": [
       "$W_{dg}$ $\\sim $ Uniform(a = 1700, b = 2500)"
      ],
      "text/plain": [
       "<IPython.core.display.Latex object>"
      ]
     },
     "metadata": {},
     "output_type": "display_data"
    },
    {
     "data": {
      "text/latex": [
       "$W_p$ $\\sim $ Uniform(a = 0.025, b = 0.08)"
      ],
      "text/plain": [
       "<IPython.core.display.Latex object>"
      ]
     },
     "metadata": {},
     "output_type": "display_data"
    }
   ],
   "source": [
    "nom_sources = distribution_entrees.getDescription()\n",
    "latex_nom_sources = [\"S_w\",\"W_{fw}\",\"A\",\"\\Lambda\",\"q\",\"l\",\"t_c\",\"N_z\",\"W_{dg}\",\"W_p\"]\n",
    "\n",
    "for i in range(len(latex_nom_sources)):\n",
    "\n",
    "    display(Latex(f\"${latex_nom_sources[i]}$ $\\sim $ {distribution_entrees.getMarginal(i).getImplementation()}\" ))"
   ]
  },
  {
   "cell_type": "markdown",
   "metadata": {},
   "source": [
    "> 4. Copier le modèle de masse de l’aile dans la variable model_masse."
   ]
  },
  {
   "cell_type": "code",
   "execution_count": 556,
   "metadata": {},
   "outputs": [],
   "source": [
    "model_masse = wing_weight_model.model"
   ]
  },
  {
   "cell_type": "markdown",
   "metadata": {},
   "source": [
    "> 5. Vérifier que ce modèle n’a pas été défini à l’aide d’une fonction symbolique. Créer la fonction\n",
    "symbolique correspondante (utiliser distribution_entrees pour définir les variables dans\n",
    "le même ordre) et comparer le gradient et la hessienne des deux implémentations du modèle\n",
    "au point moyen des entrées. Certaines composantes sont-elles entachées d’une grande erreur\n",
    "relative?"
   ]
  },
  {
   "attachments": {},
   "cell_type": "markdown",
   "metadata": {},
   "source": [
    "a. Vérification que ce modèle n’a pas été défini à l’aide d’une fonction symbolique : "
   ]
  },
  {
   "cell_type": "code",
   "execution_count": 557,
   "metadata": {},
   "outputs": [
    {
     "name": "stdout",
     "output_type": "stream",
     "text": [
      "Le modèle n'est pas symbolique\n",
      "Il est de type : class=PythonEvaluation name=OpenTURNSPythonFunction\n"
     ]
    }
   ],
   "source": [
    "\n",
    "is_symbolic = isinstance(model_masse, ot.SymbolicFunction)\n",
    "if is_symbolic:\n",
    "    print(\"Le modèle est symbolique\")\n",
    "else :\n",
    "    print(\"Le modèle n'est pas symbolique\")\n",
    "    print(\"Il est de type :\", model_masse)"
   ]
  },
  {
   "attachments": {},
   "cell_type": "markdown",
   "metadata": {},
   "source": [
    "$$g(S_w, W_{fw}, A,\\Lambda, q, l, tc, Nz, Wdg, W_p) = $$\n",
    "\n",
    "$$0.036*(S_w^{0.758})*(W_{fw}^{0.0035})*(\\frac{A}{cos(\\Lambda)^2})^{0.6}*(q^{0.006})*(l^{0.04})*(\\frac{100*tc}{(cos(\\Lambda))})^{-0.3}*((Nz*W_{dg})^{0.49})+S_w*W_p$$\n",
    "\n",
    "b. Création du fonction symbolique correspondante :\n"
   ]
  },
  {
   "cell_type": "code",
   "execution_count": 558,
   "metadata": {},
   "outputs": [],
   "source": [
    "formula = \"0.036*(Sw^0.758)*(Wfw^0.0035)*((A/(cos(Lambda*pi_/180)^2))^0.6)*(q^0.006)*(l^0.04)*(100*tc/(cos(Lambda*pi_/180)))^(-0.3)*((Nz*Wdg)^0.49)+Sw*Wp\"\n",
    "symbolic_function = ot.SymbolicFunction(nom_sources, [formula])"
   ]
  },
  {
   "attachments": {},
   "cell_type": "markdown",
   "metadata": {},
   "source": [
    "c. Comparaison du gradient et la hessienne des deux implémentations du modèle\n",
    "au point moyen des entrées\n",
    "\n",
    "\n",
    "In the case where the model is a `SymbolicFunction`  OpenTURNS\n",
    "is able to compute the exact derivatives based on symbolic differentiation However  For the `PythonFunction`, the default implementation relies on finite differences. The relative erreur to the exact gradient and hessienne is dependant on the step (epsilion). Here are the default step values for the CenteredFiniteDifference : "
   ]
  },
  {
   "cell_type": "code",
   "execution_count": 559,
   "metadata": {},
   "outputs": [
    {
     "name": "stdout",
     "output_type": "stream",
     "text": [
      "CenteredFiniteDifferenceGradient-DefaultEpsilon : 1e-05\n",
      "CenteredFiniteDifferenceHessian-DefaultEpsilon : 0.0001\n"
     ]
    }
   ],
   "source": [
    "print(\"CenteredFiniteDifferenceGradient-DefaultEpsilon :\",ResourceMap.GetAsScalar(\"CenteredFiniteDifferenceGradient-DefaultEpsilon\") )\n",
    "print(\"CenteredFiniteDifferenceHessian-DefaultEpsilon :\", ResourceMap.GetAsScalar(\"CenteredFiniteDifferenceHessian-DefaultEpsilon\"))"
   ]
  },
  {
   "attachments": {},
   "cell_type": "markdown",
   "metadata": {},
   "source": [
    "Setting the value is not that easy: a too small or too large step lead to a wrong gradient, because of the trade-off between the accuracy of the truncation of Taylor’s formula and the rounding errors in the evaluation of the function."
   ]
  },
  {
   "cell_type": "code",
   "execution_count": 560,
   "metadata": {},
   "outputs": [],
   "source": [
    "from openturns import CenteredFiniteDifferenceGradient, CenteredFiniteDifferenceHessian\n",
    "\n",
    "mean_inputs = distribution_entrees.getMean()\n",
    "\n",
    "\n",
    "def calculate_gradient_relative_error(gradient_epsilon=1e-7):\n",
    "\n",
    "    finite_difference_gradient_model = CenteredFiniteDifferenceGradient(gradient_epsilon, model_masse.getEvaluation())\n",
    "    model_gradient = finite_difference_gradient_model.gradient(mean_inputs)\n",
    "    symbolic_gradient = symbolic_function.gradient(mean_inputs)\n",
    "\n",
    "\n",
    "    gradient_relative_error = ot.Matrix(model_gradient.getNbRows(), model_gradient.getNbColumns())\n",
    "    for i in range(model_gradient.getNbRows()):\n",
    "        for j in range(model_gradient.getNbColumns()):\n",
    "            if model_gradient[i, j] != 0:\n",
    "                gradient_relative_error[i, j] = abs((model_gradient[i, j] - symbolic_gradient[i, j]))/abs(model_gradient[i, j])\n",
    "            else:\n",
    "                if symbolic_gradient[i, j] == 0:\n",
    "                    gradient_relative_error[i, j] = 0\n",
    "                else:\n",
    "                    gradient_relative_error[i, j] = -1\n",
    "    return gradient_relative_error\n",
    "\n",
    "def calculate_hessian_relative_error(hessian_epsilon = 1e-3):\n",
    "\n",
    "    finite_difference_hessian_model = CenteredFiniteDifferenceHessian(hessian_epsilon, model_masse.getEvaluation())\n",
    "    model_hessian = finite_difference_hessian_model.hessian(mean_inputs)\n",
    "    symbolic_hessian = symbolic_function.hessian(mean_inputs)\n",
    "\n",
    "    hessian_relative_error = ot.Tensor(model_hessian.getNbRows(), model_hessian.getNbColumns(), model_hessian.getNbSheets())\n",
    "    for i in range(model_hessian.getNbRows()):\n",
    "        for j in range(model_hessian.getNbColumns()):\n",
    "            for k in range(model_hessian.getNbSheets()):\n",
    "                if model_hessian[i, j, k] != 0:\n",
    "                    hessian_relative_error[i, j, k] = abs((model_hessian[i, j, k] - symbolic_hessian[i, j, k]))/abs(model_hessian[i, j, k])\n",
    "                else:\n",
    "                    if symbolic_hessian[i, j, k] == 0:\n",
    "                        hessian_relative_error[i, j, k] = 0\n",
    "                    else:\n",
    "                        hessian_relative_error[i, j, k] = -1\n",
    "    return hessian_relative_error"
   ]
  },
  {
   "cell_type": "code",
   "execution_count": 561,
   "metadata": {},
   "outputs": [
    {
     "name": "stdout",
     "output_type": "stream",
     "text": [
      "Number of model evaluations : 0\n"
     ]
    }
   ],
   "source": [
    "print(\"Number of model evaluations :\", symbolic_function.getEvaluationCallsNumber())"
   ]
  },
  {
   "cell_type": "code",
   "execution_count": 562,
   "metadata": {},
   "outputs": [
    {
     "data": {
      "image/png": "[encoded data removed]",
      "text/plain": [
       "<Figure size 1600x1800 with 12 Axes>"
      ]
     },
     "metadata": {},
     "output_type": "display_data"
    }
   ],
   "source": [
    "\n",
    "epsilons = [(1e-05, 0.0001), (1e-5, 1e-3), (1e-07, 1e-2)]\n",
    "\n",
    "fig, axes = plt.subplots(len(epsilons),2)\n",
    "fig.set_size_inches(16,6*len(epsilons))\n",
    "\n",
    "\n",
    "for i in range(len(epsilons)):\n",
    "\n",
    "    gradient_relative_error=calculate_gradient_relative_error(epsilons[i][0])\n",
    "    g0 = sb.heatmap(np.array(gradient_relative_error),ax=axes[i][0] ,annot=True)\n",
    "    g0.yaxis.set_ticklabels(nom_sources)\n",
    "    g0.set_title(f\"Gradient relative error matrix, epsilon ={epsilons[i][0]}\", fontsize=14, pad=20)\n",
    "\n",
    "\n",
    "    hessian_relative_error=calculate_hessian_relative_error(epsilons[i][1])\n",
    "    g1 = sb.heatmap(np.array(hessian_relative_error)[:,:,0].round(3),ax=axes[i][1], annot=True)\n",
    "    g1.xaxis.set_ticklabels(nom_sources)\n",
    "    g1.yaxis.set_ticklabels(nom_sources)\n",
    "    g1.set_title(f\"Hessian relative error matrix ={epsilons[i][1]}\", fontsize=14, pad=20)\n",
    "\n",
    "plt.show()"
   ]
  },
  {
   "attachments": {},
   "cell_type": "markdown",
   "metadata": {},
   "source": [
    "$\\color{blue}{\\text{à re-ecrire cette partie la. + a lire ce document + ajouter des commentaires }}$\n",
    "[source](https://openturns.discourse.group/t/sorm-vs-pythonfunction/88/3?fbclid=IwAR02YCf0cHKOmqQNAAvPn58QCPmqsna0egKGOKC8mr1T6UmjdFHULaADkkI)\n",
    "So for we used the same step size for all marginals which is not optimal we can also use epsilon =[0.1, ... 0.001], where epsilon is a list of size 10 of the optimal step size for each marginals (again look at the source above)\n",
    "\n",
    "Pour le gradient, aucune composante n'est entachée d'une grande erreur relative. En revanche, pour la hessienne, de nombreuses composantes sont entachées d'une grande erreur relative puisque certaines composantes de la hessienne symbolique sont par exemple non nulles alors même qu'elles sont nulles dans la hessienne modèle, donnant ainsi une erreur relative en théorie infinie (ici représentées par des -1), tandis que d'autres composantes ont des erreurs relatives proches de 100%."
   ]
  },
  {
   "cell_type": "markdown",
   "metadata": {},
   "source": [
    "> 6. En générant un échantillon de la distribution des sources d’incertitude de taille telle que\n",
    "l’évaluation de la fonction symbolique prenne au moins 0.1 secondes (tester progressivement\n",
    "une taille de 100, 1000 etc) en prenant soin à chaque fois d’initialiser la graine du générateur\n",
    "aléatoire à la valeur 1234, comparer les temps d’évaluation de l’implémentation via une\n",
    "fonction symbolique et via une fonction Python."
   ]
  },
  {
   "cell_type": "code",
   "execution_count": 563,
   "metadata": {},
   "outputs": [],
   "source": [
    "import time\n",
    "import matplotlib.pyplot as plt\n",
    "ot.RandomGenerator.SetSeed(1234)\n",
    "\n",
    "sample_sizes = [100, 1000, 10000, 100000, 1000000,2500000 ]\n",
    "symbolic_time = 0\n",
    "symbolic_time_list = []\n",
    "model_time_list = []\n",
    "\n",
    "# Mesurez le temps d'évaluation de model_masse\n",
    "for sample_size in sample_sizes:\n",
    "    sample = distribution_entrees.getSample(sample_size)    \n",
    "    duration = 0\n",
    "    start_time = time.time()\n",
    "    python_output = model_masse(sample)\n",
    "    duration = time.time() - start_time\n",
    "    model_time_list.append(duration)\n",
    "\n",
    "# Mesurez le temps d'évaluation de la fonction symbolique\n",
    "for sample_size in sample_sizes:\n",
    "    sample = distribution_entrees.getSample(sample_size)\n",
    "    duration = 0\n",
    "    start_time = time.time()\n",
    "    symbolic_output = symbolic_function(sample)\n",
    "    duration  = time.time() - start_time\n",
    "    symbolic_time_list.append(duration)"
   ]
  },
  {
   "cell_type": "code",
   "execution_count": 564,
   "metadata": {},
   "outputs": [
    {
     "data": {
      "image/png": "[encoded data removed]",
      "text/plain": [
       "<Figure size 640x480 with 1 Axes>"
      ]
     },
     "metadata": {},
     "output_type": "display_data"
    }
   ],
   "source": [
    "plt.title(\"Temps d'évaluation de la fonction Python\")\n",
    "plt.xlabel(\"Taille de l'échantillon\")\n",
    "plt.ylabel(\"Temps d'évaluation(s)\")\n",
    "plt.plot(sample_sizes, [0.1]*len(sample_sizes), label=\"Time limit (0.1s)\")\n",
    "plt.plot(sample_sizes, symbolic_time_list, label=\"symbolic\")\n",
    "plt.plot(sample_sizes, model_time_list, label=\"model\") # Add subtitle to the plot\n",
    "plt.legend()\n",
    "plt.show()"
   ]
  },
  {
   "cell_type": "code",
   "execution_count": 565,
   "metadata": {},
   "outputs": [],
   "source": [
    "final_sample = distribution_entrees.getSample(2000000)\n"
   ]
  },
  {
   "cell_type": "code",
   "execution_count": 566,
   "metadata": {},
   "outputs": [
    {
     "name": "stdout",
     "output_type": "stream",
     "text": [
      "140 ms ± 27.1 ms per loop (mean ± std. dev. of 10 runs, 10 loops each)\n"
     ]
    }
   ],
   "source": [
    "%%timeit -r 10\n",
    "symbolic_output = symbolic_function(final_sample)"
   ]
  },
  {
   "cell_type": "code",
   "execution_count": 567,
   "metadata": {},
   "outputs": [
    {
     "name": "stdout",
     "output_type": "stream",
     "text": [
      "3.86 s ± 200 ms per loop (mean ± std. dev. of 10 runs, 1 loop each)\n"
     ]
    }
   ],
   "source": [
    "%%timeit -r 10\n",
    "python_output = model_masse(sample)\n"
   ]
  },
  {
   "attachments": {},
   "cell_type": "markdown",
   "metadata": {},
   "source": [
    "- The average execution time for the symbolic function for a sample of size 2000000 is : 142 ms\n",
    "- The average execution time for the python   function for a sample of size 2000000 is : 3.93 s \n",
    "\n",
    "We can conlude that the symbolic function is more efficient than the python function in terms of execution speed"
   ]
  },
  {
   "cell_type": "code",
   "execution_count": 568,
   "metadata": {},
   "outputs": [
    {
     "name": "stdout",
     "output_type": "stream",
     "text": [
      "Number of model evaluations : 225611100\n"
     ]
    }
   ],
   "source": [
    "question_six_model_evaluations = symbolic_function.getEvaluationCallsNumber()\n",
    "print(\"Number of model evaluations :\", question_six_model_evaluations)"
   ]
  },
  {
   "cell_type": "markdown",
   "metadata": {},
   "source": [
    "On utilisera désormais l’implémentation via une fonction symbolique.\n",
    "## 3.2 Variables d’entrée et de sortie\n",
    "> 7. Créer le vecteur aléatoire X dans la variable X des sources d’incertitude."
   ]
  },
  {
   "cell_type": "code",
   "execution_count": 569,
   "metadata": {},
   "outputs": [],
   "source": [
    "X = ot.RandomVector(distribution_entrees)"
   ]
  },
  {
   "cell_type": "markdown",
   "metadata": {},
   "source": [
    "> 8. Créer le vecteur aléatoire M dans la variable M correspondant à la masse de l’aile."
   ]
  },
  {
   "cell_type": "code",
   "execution_count": 570,
   "metadata": {},
   "outputs": [],
   "source": [
    "M = ot.CompositeRandomVector(model_masse, X)"
   ]
  },
  {
   "attachments": {},
   "cell_type": "markdown",
   "metadata": {},
   "source": [
    "> 9. Peut-on obtenir la distribution de `M` à l’aide de l’algèbre des distributions?\n",
    "\n",
    "$\\color{blue}{\\text{à verifier ce question aussi.}}$"
   ]
  },
  {
   "cell_type": "markdown",
   "metadata": {},
   "source": [
    "Non, on ne peut pas obtenir la distribution de `M` à l'aide de l'algèbre des distributions parce que le modèle est non-linéaire."
   ]
  },
  {
   "cell_type": "markdown",
   "metadata": {},
   "source": [
    "> 10. Calculer la distribution de la masse de la peinture à l’aide de l’algèbre des distributions et tracer sa densité."
   ]
  },
  {
   "cell_type": "markdown",
   "metadata": {},
   "source": [
    "$\\color{blue}{\\text{Je suis pas sûr de ce que j'ai fait pour cette question.}}$"
   ]
  },
  {
   "cell_type": "code",
   "execution_count": 571,
   "metadata": {},
   "outputs": [
    {
     "data": {
      "image/png": "[encoded data removed]",
      "text/plain": [
       "class=Graph name=pdf as a function of Wp implementation=class=GraphImplementation name=pdf as a function of Wp title= xTitle=Wp yTitle=PDF axes=ON grid=ON legendposition=topright legendFontSize=1 drawables=[class=Drawable name=Unnamed implementation=class=Curve name=Unnamed derived from class=DrawableImplementation name=Unnamed legend=Wp PDF data=class=Sample name=Unnamed implementation=class=SampleImplementation name=Unnamed size=129 dimension=2 data=[[-0.0168,0],[-0.0157172,0],[-0.0146344,0],[-0.0135516,0],[-0.0124688,0],[-0.0113859,0],[-0.0103031,0],[-0.00922031,0],[-0.0081375,0],[-0.00705469,0],[-0.00597188,0],[-0.00488906,0],[-0.00380625,0],[-0.00272344,0],[-0.00164063,0],[-0.000557813,0],[0.000525,0],[0.00160781,0],[0.00269062,0],[0.00377344,0],[0.00485625,0],[0.00593906,0],[0.00702187,0],[0.00810469,0],[0.0091875,0],[0.0102703,0],[0.0113531,0],[0.0124359,0],[0.0135187,0],[0.0146016,0],[0.0156844,0],[0.0167672,0],[0.01785,0],[0.0189328,0],[0.0200156,0],[0.0210984,0],[0.0221812,0],[0.0232641,0],[0.0243469,0],[0.0254297,18.1818],[0.0265125,18.1818],[0.0275953,18.1818],[0.0286781,18.1818],[0.0297609,18.1818],[0.0308438,18.1818],[0.0319266,18.1818],[0.0330094,18.1818],[0.0340922,18.1818],[0.035175,18.1818],[0.0362578,18.1818],[0.0373406,18.1818],[0.0384234,18.1818],[0.0395062,18.1818],[0.0405891,18.1818],[0.0416719,18.1818],[0.0427547,18.1818],[0.0438375,18.1818],[0.0449203,18.1818],[0.0460031,18.1818],[0.0470859,18.1818],[0.0481688,18.1818],[0.0492516,18.1818],[0.0503344,18.1818],[0.0514172,18.1818],[0.0525,18.1818],[0.0535828,18.1818],[0.0546656,18.1818],[0.0557484,18.1818],[0.0568312,18.1818],[0.0579141,18.1818],[0.0589969,18.1818],[0.0600797,18.1818],[0.0611625,18.1818],[0.0622453,18.1818],[0.0633281,18.1818],[0.0644109,18.1818],[0.0654938,18.1818],[0.0665766,18.1818],[0.0676594,18.1818],[0.0687422,18.1818],[0.069825,18.1818],[0.0709078,18.1818],[0.0719906,18.1818],[0.0730734,18.1818],[0.0741563,18.1818],[0.0752391,18.1818],[0.0763219,18.1818],[0.0774047,18.1818],[0.0784875,18.1818],[0.0795703,18.1818],[0.0806531,0],[0.0817359,0],[0.0828188,0],[0.0839016,0],[0.0849844,0],[0.0860672,0],[0.08715,0],[0.0882328,0],[0.0893156,0],[0.0903984,0],[0.0914813,0],[0.0925641,0],[0.0936469,0],[0.0947297,0],[0.0958125,0],[0.0968953,0],[0.0979781,0],[0.0990609,0],[0.100144,0],[0.101227,0],[0.102309,0],[0.103392,0],[0.104475,0],[0.105558,0],[0.106641,0],[0.107723,0],[0.108806,0],[0.109889,0],[0.110972,0],[0.112055,0],[0.113138,0],[0.11422,0],[0.115303,0],[0.116386,0],[0.117469,0],[0.118552,0],[0.119634,0],[0.120717,0],[0.1218,0]] color=red fillStyle=solid lineStyle=solid pointStyle=none lineWidth=2]"
      ]
     },
     "execution_count": 571,
     "metadata": {},
     "output_type": "execute_result"
    }
   ],
   "source": [
    "Wp.drawPDF()"
   ]
  },
  {
   "cell_type": "markdown",
   "metadata": {},
   "source": [
    "## 3.3 Analyse en tendance centrale\n",
    "On effectue d’abord une analyse de la moyenne et de la variance de la masse à l’aide d’une\n",
    "approximation de Taylor du modèle au point moyen des sources d’incertitudes à l’aide de la classe\n",
    "TaylorExpansionMoments.\n",
    "\n",
    "> 11. Que valent la moyenne à l’ordre 0 et la moyenne à l’ordre 2 de M? Le calcul précis de la hessienne est-il critique?"
   ]
  },
  {
   "cell_type": "markdown",
   "metadata": {},
   "source": [
    "La précision du calcul de la hessienne peut être importante pour estimer la variance de la sortie en utilisant l'approximation de Taylor. Si la hessienne est mal calculée, cela peut entraîner des erreurs dans l'estimation de la variance"
   ]
  },
  {
   "cell_type": "code",
   "execution_count": 572,
   "metadata": {},
   "outputs": [
    {
     "name": "stdout",
     "output_type": "stream",
     "text": [
      "Moyenne d'ordre 0 de M : 267.62\n",
      "Moyenne d'ordre 2 de M : 268.03\n"
     ]
    }
   ],
   "source": [
    "# Effectuer une approximation de Taylor du modèle au point moyen des sources d'incertitudes\n",
    "taylor_expansion_moments = ot.TaylorExpansionMoments(M)\n",
    "\n",
    "# Calculer la moyenne d'ordre 0 et d'ordre 2 de M\n",
    "mean_order_0 = taylor_expansion_moments.getMeanFirstOrder()\n",
    "mean_order_2 = taylor_expansion_moments.getMeanSecondOrder()\n",
    "\n",
    "print(\"Moyenne d'ordre 0 de M :\", round(mean_order_0[0],2))\n",
    "print(\"Moyenne d'ordre 2 de M :\", round(mean_order_2[0],2))"
   ]
  },
  {
   "cell_type": "markdown",
   "metadata": {},
   "source": [
    "> 12. Que vaut la variance à l’ordre 1 de M?"
   ]
  },
  {
   "cell_type": "code",
   "execution_count": 573,
   "metadata": {},
   "outputs": [
    {
     "name": "stdout",
     "output_type": "stream",
     "text": [
      "Variance d'ordre 1 de M : 2195.56\n"
     ]
    }
   ],
   "source": [
    "# Calculer la variance d'ordre 1 de M\n",
    "covariance_matrix_order_1 = taylor_expansion_moments.getCovariance()\n",
    "\n",
    "print(\"Variance d'ordre 1 de M :\", round(covariance_matrix_order_1[0, 0],2))"
   ]
  },
  {
   "cell_type": "markdown",
   "metadata": {},
   "source": [
    "> 13. Calculer les facteurs d’importance des composantes de X dans la variance de M."
   ]
  },
  {
   "cell_type": "code",
   "execution_count": 574,
   "metadata": {},
   "outputs": [
    {
     "name": "stdout",
     "output_type": "stream",
     "text": [
      "Facteurs d'importance des composantes de X dans la variance de M:\n",
      "Sw : 13.03154 %\n",
      "Wfw : 0.00029 %\n",
      "A : 22.81527 %\n",
      "Lambda : 0.00000 %\n",
      "q : 0.00825 %\n",
      "l : 0.18027 %\n",
      "tc : 13.50016 %\n",
      "Nz : 41.27941 %\n",
      "Wdg : 8.83317 %\n",
      "Wp : 0.35162 %\n"
     ]
    }
   ],
   "source": [
    "# Calculer les facteurs d'importance des composantes de X dans la variance de M\n",
    "importance_factors = taylor_expansion_moments.getImportanceFactors()\n",
    "\n",
    "print(\"Facteurs d'importance des composantes de X dans la variance de M:\")\n",
    "for i, factor in enumerate(importance_factors):\n",
    "    print(f\"{nom_sources[i]} : {100*factor:.5f} %\")"
   ]
  },
  {
   "cell_type": "code",
   "execution_count": 575,
   "metadata": {},
   "outputs": [
    {
     "data": {
      "image/png": "[encoded data removed]",
      "text/plain": [
       "<Figure size 800x400 with 1 Axes>"
      ]
     },
     "metadata": {},
     "output_type": "display_data"
    }
   ],
   "source": [
    "plt.figure(figsize=(8,4))\n",
    "plt.barh(nom_sources,[100*factor for factor in importance_factors])\n",
    "plt.xlabel(\"pourcentage d'importance\")\n",
    "plt.grid()\n",
    "plt.show()"
   ]
  },
  {
   "cell_type": "markdown",
   "metadata": {},
   "source": [
    "> 14. On considère que la composante Xi est importante dès lors que son facteur d’importance est supérieur à 0.5%. Quelles sont les composantes importantes et les composantes négligables selon ce critère?"
   ]
  },
  {
   "cell_type": "code",
   "execution_count": 576,
   "metadata": {},
   "outputs": [
    {
     "name": "stdout",
     "output_type": "stream",
     "text": [
      "Composantes importantes : [Sw,A,tc,Nz,Wdg]\n",
      "Composantes négligeables : [Wfw,Lambda,q,l,Wp]\n"
     ]
    }
   ],
   "source": [
    "# Seuil d'importance\n",
    "threshold = 0.005\n",
    "\n",
    "important_components = []\n",
    "negligible_components = []\n",
    "\n",
    "for i, factor in enumerate(importance_factors):\n",
    "    if factor > threshold:\n",
    "        important_components.append(i)\n",
    "    else:\n",
    "        negligible_components.append(i)\n",
    "\n",
    "print(\"Composantes importantes :\", nom_sources[important_components])\n",
    "print(\"Composantes négligeables :\", nom_sources[negligible_components])"
   ]
  },
  {
   "cell_type": "markdown",
   "metadata": {},
   "source": [
    "On souhaite confronter cette analyse en calculant les indices de Sobol totaux de chacune des\n",
    "composantes de X, calculés à partir de la décomposition de Sobol de la fonction de masse.\n",
    "\n",
    "> 15. Construire la décomposition de Sobol du modèle à l’aide de l’algorithme FunctionalChaosAlgorithm en utilisant un plan d’expérience de type Monte Carlo (classe MonteCarloExperiment) de taille 1000 associé à la distribution des incertitudes."
   ]
  },
  {
   "cell_type": "code",
   "execution_count": 577,
   "metadata": {},
   "outputs": [],
   "source": [
    "inputDim = distribution_entrees.getDimension()\n",
    "samplingSize=1000\n",
    "\n",
    "# Building the multivariate orthonormal basis:\n",
    "polyColl = [0.0]*inputDim\n",
    "for i in range(inputDim):\n",
    "    polyColl[i] = ot.StandardDistributionPolynomialFactory(distribution_entrees.getMarginal(i))\n",
    "enumerateFunction = ot.LinearEnumerateFunction(inputDim)\n",
    "productBasis = ot.OrthogonalProductPolynomialFactory(polyColl, enumerateFunction)\n",
    "\n",
    "# We keep all the polynomials of degree <= 3\n",
    "\n",
    "degree = 3\n",
    "indexMax = enumerateFunction.getStrataCumulatedCardinal(degree)\n",
    "adaptiveStrategy = ot.FixedStrategy(productBasis, indexMax)\n",
    "\n",
    "# Definining the evaluation strategy of the coefficients:\n",
    "\n",
    "experiment = ot.MonteCarloExperiment(distribution_entrees, samplingSize)\n",
    "X = experiment.generate()\n",
    "Y = symbolic_function(X)\n",
    "projectionStrategy = ot.LeastSquaresStrategy()\n",
    "\n",
    "chaos_algorithm = ot.FunctionalChaosAlgorithm(X, Y, distribution_entrees, adaptiveStrategy, projectionStrategy)\n",
    "chaos_algorithm.run()\n",
    "chaos_result = chaos_algorithm.getResult()"
   ]
  },
  {
   "cell_type": "code",
   "execution_count": 578,
   "metadata": {},
   "outputs": [],
   "source": [
    "nom_sources_list = [\"Sw\",\"Wfw\",\"A\",\"Lambda\",\"q\",\"l\",\"tc\",\"Nz\",\"Wdg\",\"Wp\"]"
   ]
  },
  {
   "cell_type": "code",
   "execution_count": 579,
   "metadata": {},
   "outputs": [
    {
     "data": {
      "application/vnd.plotly.v1+json": {
       "config": {
        "plotlyServerURL": "https://plot.ly"
       },
       "data": [
        {
         "domain": {
          "x": [
           0,
           1
          ],
          "y": [
           0,
           1
          ]
         },
         "hovertemplate": "label=%{label}<br>value=%{value}<extra></extra>",
         "labels": [
          "Sw",
          "Wfw",
          "A",
          "Lambda",
          "q",
          "l",
          "tc",
          "Nz",
          "Wdg",
          "Wp"
         ],
         "legendgroup": "",
         "name": "",
         "showlegend": true,
         "type": "pie",
         "values": [
          0.13073342608752467,
          0.0000032358442710134303,
          0.2272642939702871,
          0.0005226787098916752,
          0.00009021374518899346,
          0.001948224167757903,
          0.1501438724019277,
          0.45640353053186006,
          0.08299511634176508,
          0.003289224669827725
         ]
        }
       ],
       "layout": {
        "legend": {
         "tracegroupgap": 0
        },
        "template": {
         "data": {
          "bar": [
           {
            "error_x": {
             "color": "#2a3f5f"
            },
            "error_y": {
             "color": "#2a3f5f"
            },
            "marker": {
             "line": {
              "color": "#E5ECF6",
              "width": 0.5
             },
             "pattern": {
              "fillmode": "overlay",
              "size": 10,
              "solidity": 0.2
             }
            },
            "type": "bar"
           }
          ],
          "barpolar": [
           {
            "marker": {
             "line": {
              "color": "#E5ECF6",
              "width": 0.5
             },
             "pattern": {
              "fillmode": "overlay",
              "size": 10,
              "solidity": 0.2
             }
            },
            "type": "barpolar"
           }
          ],
          "carpet": [
           {
            "aaxis": {
             "endlinecolor": "#2a3f5f",
             "gridcolor": "white",
             "linecolor": "white",
             "minorgridcolor": "white",
             "startlinecolor": "#2a3f5f"
            },
            "baxis": {
             "endlinecolor": "#2a3f5f",
             "gridcolor": "white",
             "linecolor": "white",
             "minorgridcolor": "white",
             "startlinecolor": "#2a3f5f"
            },
            "type": "carpet"
           }
          ],
          "choropleth": [
           {
            "colorbar": {
             "outlinewidth": 0,
             "ticks": ""
            },
            "type": "choropleth"
           }
          ],
          "contour": [
           {
            "colorbar": {
             "outlinewidth": 0,
             "ticks": ""
            },
            "colorscale": [
             [
              0,
              "#0d0887"
             ],
             [
              0.1111111111111111,
              "#46039f"
             ],
             [
              0.2222222222222222,
              "#7201a8"
             ],
             [
              0.3333333333333333,
              "#9c179e"
             ],
             [
              0.4444444444444444,
              "#bd3786"
             ],
             [
              0.5555555555555556,
              "#d8576b"
             ],
             [
              0.6666666666666666,
              "#ed7953"
             ],
             [
              0.7777777777777778,
              "#fb9f3a"
             ],
             [
              0.8888888888888888,
              "#fdca26"
             ],
             [
              1,
              "#f0f921"
             ]
            ],
            "type": "contour"
           }
          ],
          "contourcarpet": [
           {
            "colorbar": {
             "outlinewidth": 0,
             "ticks": ""
            },
            "type": "contourcarpet"
           }
          ],
          "heatmap": [
           {
            "colorbar": {
             "outlinewidth": 0,
             "ticks": ""
            },
            "colorscale": [
             [
              0,
              "#0d0887"
             ],
             [
              0.1111111111111111,
              "#46039f"
             ],
             [
              0.2222222222222222,
              "#7201a8"
             ],
             [
              0.3333333333333333,
              "#9c179e"
             ],
             [
              0.4444444444444444,
              "#bd3786"
             ],
             [
              0.5555555555555556,
              "#d8576b"
             ],
             [
              0.6666666666666666,
              "#ed7953"
             ],
             [
              0.7777777777777778,
              "#fb9f3a"
             ],
             [
              0.8888888888888888,
              "#fdca26"
             ],
             [
              1,
              "#f0f921"
             ]
            ],
            "type": "heatmap"
           }
          ],
          "heatmapgl": [
           {
            "colorbar": {
             "outlinewidth": 0,
             "ticks": ""
            },
            "colorscale": [
             [
              0,
              "#0d0887"
             ],
             [
              0.1111111111111111,
              "#46039f"
             ],
             [
              0.2222222222222222,
              "#7201a8"
             ],
             [
              0.3333333333333333,
              "#9c179e"
             ],
             [
              0.4444444444444444,
              "#bd3786"
             ],
             [
              0.5555555555555556,
              "#d8576b"
             ],
             [
              0.6666666666666666,
              "#ed7953"
             ],
             [
              0.7777777777777778,
              "#fb9f3a"
             ],
             [
              0.8888888888888888,
              "#fdca26"
             ],
             [
              1,
              "#f0f921"
             ]
            ],
            "type": "heatmapgl"
           }
          ],
          "histogram": [
           {
            "marker": {
             "pattern": {
              "fillmode": "overlay",
              "size": 10,
              "solidity": 0.2
             }
            },
            "type": "histogram"
           }
          ],
          "histogram2d": [
           {
            "colorbar": {
             "outlinewidth": 0,
             "ticks": ""
            },
            "colorscale": [
             [
              0,
              "#0d0887"
             ],
             [
              0.1111111111111111,
              "#46039f"
             ],
             [
              0.2222222222222222,
              "#7201a8"
             ],
             [
              0.3333333333333333,
              "#9c179e"
             ],
             [
              0.4444444444444444,
              "#bd3786"
             ],
             [
              0.5555555555555556,
              "#d8576b"
             ],
             [
              0.6666666666666666,
              "#ed7953"
             ],
             [
              0.7777777777777778,
              "#fb9f3a"
             ],
             [
              0.8888888888888888,
              "#fdca26"
             ],
             [
              1,
              "#f0f921"
             ]
            ],
            "type": "histogram2d"
           }
          ],
          "histogram2dcontour": [
           {
            "colorbar": {
             "outlinewidth": 0,
             "ticks": ""
            },
            "colorscale": [
             [
              0,
              "#0d0887"
             ],
             [
              0.1111111111111111,
              "#46039f"
             ],
             [
              0.2222222222222222,
              "#7201a8"
             ],
             [
              0.3333333333333333,
              "#9c179e"
             ],
             [
              0.4444444444444444,
              "#bd3786"
             ],
             [
              0.5555555555555556,
              "#d8576b"
             ],
             [
              0.6666666666666666,
              "#ed7953"
             ],
             [
              0.7777777777777778,
              "#fb9f3a"
             ],
             [
              0.8888888888888888,
              "#fdca26"
             ],
             [
              1,
              "#f0f921"
             ]
            ],
            "type": "histogram2dcontour"
           }
          ],
          "mesh3d": [
           {
            "colorbar": {
             "outlinewidth": 0,
             "ticks": ""
            },
            "type": "mesh3d"
           }
          ],
          "parcoords": [
           {
            "line": {
             "colorbar": {
              "outlinewidth": 0,
              "ticks": ""
             }
            },
            "type": "parcoords"
           }
          ],
          "pie": [
           {
            "automargin": true,
            "type": "pie"
           }
          ],
          "scatter": [
           {
            "fillpattern": {
             "fillmode": "overlay",
             "size": 10,
             "solidity": 0.2
            },
            "type": "scatter"
           }
          ],
          "scatter3d": [
           {
            "line": {
             "colorbar": {
              "outlinewidth": 0,
              "ticks": ""
             }
            },
            "marker": {
             "colorbar": {
              "outlinewidth": 0,
              "ticks": ""
             }
            },
            "type": "scatter3d"
           }
          ],
          "scattercarpet": [
           {
            "marker": {
             "colorbar": {
              "outlinewidth": 0,
              "ticks": ""
             }
            },
            "type": "scattercarpet"
           }
          ],
          "scattergeo": [
           {
            "marker": {
             "colorbar": {
              "outlinewidth": 0,
              "ticks": ""
             }
            },
            "type": "scattergeo"
           }
          ],
          "scattergl": [
           {
            "marker": {
             "colorbar": {
              "outlinewidth": 0,
              "ticks": ""
             }
            },
            "type": "scattergl"
           }
          ],
          "scattermapbox": [
           {
            "marker": {
             "colorbar": {
              "outlinewidth": 0,
              "ticks": ""
             }
            },
            "type": "scattermapbox"
           }
          ],
          "scatterpolar": [
           {
            "marker": {
             "colorbar": {
              "outlinewidth": 0,
              "ticks": ""
             }
            },
            "type": "scatterpolar"
           }
          ],
          "scatterpolargl": [
           {
            "marker": {
             "colorbar": {
              "outlinewidth": 0,
              "ticks": ""
             }
            },
            "type": "scatterpolargl"
           }
          ],
          "scatterternary": [
           {
            "marker": {
             "colorbar": {
              "outlinewidth": 0,
              "ticks": ""
             }
            },
            "type": "scatterternary"
           }
          ],
          "surface": [
           {
            "colorbar": {
             "outlinewidth": 0,
             "ticks": ""
            },
            "colorscale": [
             [
              0,
              "#0d0887"
             ],
             [
              0.1111111111111111,
              "#46039f"
             ],
             [
              0.2222222222222222,
              "#7201a8"
             ],
             [
              0.3333333333333333,
              "#9c179e"
             ],
             [
              0.4444444444444444,
              "#bd3786"
             ],
             [
              0.5555555555555556,
              "#d8576b"
             ],
             [
              0.6666666666666666,
              "#ed7953"
             ],
             [
              0.7777777777777778,
              "#fb9f3a"
             ],
             [
              0.8888888888888888,
              "#fdca26"
             ],
             [
              1,
              "#f0f921"
             ]
            ],
            "type": "surface"
           }
          ],
          "table": [
           {
            "cells": {
             "fill": {
              "color": "#EBF0F8"
             },
             "line": {
              "color": "white"
             }
            },
            "header": {
             "fill": {
              "color": "#C8D4E3"
             },
             "line": {
              "color": "white"
             }
            },
            "type": "table"
           }
          ]
         },
         "layout": {
          "annotationdefaults": {
           "arrowcolor": "#2a3f5f",
           "arrowhead": 0,
           "arrowwidth": 1
          },
          "autotypenumbers": "strict",
          "coloraxis": {
           "colorbar": {
            "outlinewidth": 0,
            "ticks": ""
           }
          },
          "colorscale": {
           "diverging": [
            [
             0,
             "#8e0152"
            ],
            [
             0.1,
             "#c51b7d"
            ],
            [
             0.2,
             "#de77ae"
            ],
            [
             0.3,
             "#f1b6da"
            ],
            [
             0.4,
             "#fde0ef"
            ],
            [
             0.5,
             "#f7f7f7"
            ],
            [
             0.6,
             "#e6f5d0"
            ],
            [
             0.7,
             "#b8e186"
            ],
            [
             0.8,
             "#7fbc41"
            ],
            [
             0.9,
             "#4d9221"
            ],
            [
             1,
             "#276419"
            ]
           ],
           "sequential": [
            [
             0,
             "#0d0887"
            ],
            [
             0.1111111111111111,
             "#46039f"
            ],
            [
             0.2222222222222222,
             "#7201a8"
            ],
            [
             0.3333333333333333,
             "#9c179e"
            ],
            [
             0.4444444444444444,
             "#bd3786"
            ],
            [
             0.5555555555555556,
             "#d8576b"
            ],
            [
             0.6666666666666666,
             "#ed7953"
            ],
            [
             0.7777777777777778,
             "#fb9f3a"
            ],
            [
             0.8888888888888888,
             "#fdca26"
            ],
            [
             1,
             "#f0f921"
            ]
           ],
           "sequentialminus": [
            [
             0,
             "#0d0887"
            ],
            [
             0.1111111111111111,
             "#46039f"
            ],
            [
             0.2222222222222222,
             "#7201a8"
            ],
            [
             0.3333333333333333,
             "#9c179e"
            ],
            [
             0.4444444444444444,
             "#bd3786"
            ],
            [
             0.5555555555555556,
             "#d8576b"
            ],
            [
             0.6666666666666666,
             "#ed7953"
            ],
            [
             0.7777777777777778,
             "#fb9f3a"
            ],
            [
             0.8888888888888888,
             "#fdca26"
            ],
            [
             1,
             "#f0f921"
            ]
           ]
          },
          "colorway": [
           "#636efa",
           "#EF553B",
           "#00cc96",
           "#ab63fa",
           "#FFA15A",
           "#19d3f3",
           "#FF6692",
           "#B6E880",
           "#FF97FF",
           "#FECB52"
          ],
          "font": {
           "color": "#2a3f5f"
          },
          "geo": {
           "bgcolor": "white",
           "lakecolor": "white",
           "landcolor": "#E5ECF6",
           "showlakes": true,
           "showland": true,
           "subunitcolor": "white"
          },
          "hoverlabel": {
           "align": "left"
          },
          "hovermode": "closest",
          "mapbox": {
           "style": "light"
          },
          "paper_bgcolor": "white",
          "plot_bgcolor": "#E5ECF6",
          "polar": {
           "angularaxis": {
            "gridcolor": "white",
            "linecolor": "white",
            "ticks": ""
           },
           "bgcolor": "#E5ECF6",
           "radialaxis": {
            "gridcolor": "white",
            "linecolor": "white",
            "ticks": ""
           }
          },
          "scene": {
           "xaxis": {
            "backgroundcolor": "#E5ECF6",
            "gridcolor": "white",
            "gridwidth": 2,
            "linecolor": "white",
            "showbackground": true,
            "ticks": "",
            "zerolinecolor": "white"
           },
           "yaxis": {
            "backgroundcolor": "#E5ECF6",
            "gridcolor": "white",
            "gridwidth": 2,
            "linecolor": "white",
            "showbackground": true,
            "ticks": "",
            "zerolinecolor": "white"
           },
           "zaxis": {
            "backgroundcolor": "#E5ECF6",
            "gridcolor": "white",
            "gridwidth": 2,
            "linecolor": "white",
            "showbackground": true,
            "ticks": "",
            "zerolinecolor": "white"
           }
          },
          "shapedefaults": {
           "line": {
            "color": "#2a3f5f"
           }
          },
          "ternary": {
           "aaxis": {
            "gridcolor": "white",
            "linecolor": "white",
            "ticks": ""
           },
           "baxis": {
            "gridcolor": "white",
            "linecolor": "white",
            "ticks": ""
           },
           "bgcolor": "#E5ECF6",
           "caxis": {
            "gridcolor": "white",
            "linecolor": "white",
            "ticks": ""
           }
          },
          "title": {
           "x": 0.05
          },
          "xaxis": {
           "automargin": true,
           "gridcolor": "white",
           "linecolor": "white",
           "ticks": "",
           "title": {
            "standoff": 15
           },
           "zerolinecolor": "white",
           "zerolinewidth": 2
          },
          "yaxis": {
           "automargin": true,
           "gridcolor": "white",
           "linecolor": "white",
           "ticks": "",
           "title": {
            "standoff": 15
           },
           "zerolinecolor": "white",
           "zerolinewidth": 2
          }
         }
        },
        "title": {
         "text": "Total order indices"
        }
       }
      }
     },
     "metadata": {},
     "output_type": "display_data"
    }
   ],
   "source": [
    "from openturns.viewer import View\n",
    "import numpy as np\n",
    "sobol_indices = ot.SobolIndicesAlgorithm(chaos_result.getDistribution(), 1000, chaos_result.getMetaModel())\n",
    "total_sobol_indices = sobol_indices.getTotalOrderIndices()\n",
    "#sobol_indices.DrawImportanceFactors(total_sobol_indices, nom_sources, 'Total order indices')\n",
    "fig = px.pie(values=np.array(total_sobol_indices), names=nom_sources_list, title='Total order indices')\n",
    "fig.show()"
   ]
  },
  {
   "cell_type": "markdown",
   "metadata": {},
   "source": [
    "> 16. En générant un échantillon indépendant et de même taille, valider graphiquement la qualité de la décomposition. On calculera également le coefficient de détermination. Pour cela, on utilisera la classe MetaModelValidation."
   ]
  },
  {
   "cell_type": "code",
   "execution_count": 580,
   "metadata": {},
   "outputs": [
    {
     "name": "stdout",
     "output_type": "stream",
     "text": [
      "Coefficient of determination R^2: 0.9999919052115066\n"
     ]
    }
   ],
   "source": [
    "validation_sample = distribution_entrees.getSample(samplingSize)\n",
    "output_sample = symbolic_function(validation_sample)\n",
    "validation = ot.MetaModelValidation(validation_sample, output_sample, chaos_result.getMetaModel())\n",
    "R2 = validation.computePredictivityFactor()[0]\n",
    "print(f\"Coefficient of determination R^2: {R2}\")"
   ]
  },
  {
   "cell_type": "code",
   "execution_count": 581,
   "metadata": {},
   "outputs": [
    {
     "name": "stderr",
     "output_type": "stream",
     "text": [
      "/home/odeck/.local/lib/python3.10/site-packages/openturns/viewer.py:655: UserWarning:\n",
      "\n",
      "Matplotlib is currently using module://matplotlib_inline.backend_inline, which is a non-GUI backend, so cannot show the figure.\n",
      "\n"
     ]
    },
    {
     "data": {
      "image/png": "[encoded data removed]",
      "text/plain": [
       "<Figure size 640x480 with 1 Axes>"
      ]
     },
     "metadata": {},
     "output_type": "display_data"
    }
   ],
   "source": [
    "graph = validation.drawValidation()\n",
    "View(graph).show()"
   ]
  },
  {
   "cell_type": "markdown",
   "metadata": {},
   "source": [
    "> 17. En déduire une estimation des indices de Sobol totaux de chacune des composantes de X. En appliquant le même critère que pour les facteurs d’importance issus du développement de Taylor, quels sont les composantes influentes et celles qui ne le sont pas? Comparer avec le classement obtenu précédemment."
   ]
  },
  {
   "cell_type": "code",
   "execution_count": 582,
   "metadata": {},
   "outputs": [
    {
     "name": "stdout",
     "output_type": "stream",
     "text": [
      "Composantes importantes: [Sw,A,tc,Nz,Wdg]\n",
      "Composantes négligeables: [Wfw,Lambda,q,l,Wp]\n"
     ]
    },
    {
     "name": "stderr",
     "output_type": "stream",
     "text": [
      "/tmp/ipykernel_26600/4288573037.py:30: FutureWarning:\n",
      "\n",
      "The frame.append method is deprecated and will be removed from pandas in a future version. Use pandas.concat instead.\n",
      "\n"
     ]
    },
    {
     "data": {
      "application/vnd.plotly.v1+json": {
       "config": {
        "plotlyServerURL": "https://plot.ly"
       },
       "data": [
        {
         "alignmentgroup": "True",
         "hovertemplate": "type=sobol<br>variables=%{x}<br>value=%{y}<extra></extra>",
         "legendgroup": "sobol",
         "marker": {
          "color": "#636efa",
          "pattern": {
           "shape": ""
          }
         },
         "name": "sobol",
         "offsetgroup": "sobol",
         "orientation": "v",
         "showlegend": true,
         "textposition": "auto",
         "type": "bar",
         "x": [
          "Sw",
          "Wfw",
          "A",
          "Lambda",
          "q",
          "l",
          "tc",
          "Nz",
          "Wdg",
          "Wp"
         ],
         "xaxis": "x",
         "y": [
          0.13073342608752467,
          0.0000032358442710134303,
          0.2272642939702871,
          0.0005226787098916752,
          0.00009021374518899346,
          0.001948224167757903,
          0.1501438724019277,
          0.45640353053186006,
          0.08299511634176508,
          0.003289224669827725
         ],
         "yaxis": "y"
        },
        {
         "alignmentgroup": "True",
         "hovertemplate": "type=taylor<br>variables=%{x}<br>value=%{y}<extra></extra>",
         "legendgroup": "taylor",
         "marker": {
          "color": "#EF553B",
          "pattern": {
           "shape": ""
          }
         },
         "name": "taylor",
         "offsetgroup": "taylor",
         "orientation": "v",
         "showlegend": true,
         "textposition": "auto",
         "type": "bar",
         "x": [
          "Sw",
          "Wfw",
          "A",
          "Lambda",
          "q",
          "l",
          "tc",
          "Nz",
          "Wdg",
          "Wp"
         ],
         "xaxis": "x",
         "y": [
          0.1303154458459419,
          0.000002940035041462363,
          0.2281527211460295,
          0,
          0.00008250531999446179,
          0.0018026881665796745,
          0.13500161092187157,
          0.4127941481942935,
          0.08833173210417389,
          0.0035162082660742198
         ],
         "yaxis": "y"
        }
       ],
       "layout": {
        "barmode": "group",
        "legend": {
         "title": {
          "text": "type"
         },
         "tracegroupgap": 0
        },
        "template": {
         "data": {
          "bar": [
           {
            "error_x": {
             "color": "#2a3f5f"
            },
            "error_y": {
             "color": "#2a3f5f"
            },
            "marker": {
             "line": {
              "color": "#E5ECF6",
              "width": 0.5
             },
             "pattern": {
              "fillmode": "overlay",
              "size": 10,
              "solidity": 0.2
             }
            },
            "type": "bar"
           }
          ],
          "barpolar": [
           {
            "marker": {
             "line": {
              "color": "#E5ECF6",
              "width": 0.5
             },
             "pattern": {
              "fillmode": "overlay",
              "size": 10,
              "solidity": 0.2
             }
            },
            "type": "barpolar"
           }
          ],
          "carpet": [
           {
            "aaxis": {
             "endlinecolor": "#2a3f5f",
             "gridcolor": "white",
             "linecolor": "white",
             "minorgridcolor": "white",
             "startlinecolor": "#2a3f5f"
            },
            "baxis": {
             "endlinecolor": "#2a3f5f",
             "gridcolor": "white",
             "linecolor": "white",
             "minorgridcolor": "white",
             "startlinecolor": "#2a3f5f"
            },
            "type": "carpet"
           }
          ],
          "choropleth": [
           {
            "colorbar": {
             "outlinewidth": 0,
             "ticks": ""
            },
            "type": "choropleth"
           }
          ],
          "contour": [
           {
            "colorbar": {
             "outlinewidth": 0,
             "ticks": ""
            },
            "colorscale": [
             [
              0,
              "#0d0887"
             ],
             [
              0.1111111111111111,
              "#46039f"
             ],
             [
              0.2222222222222222,
              "#7201a8"
             ],
             [
              0.3333333333333333,
              "#9c179e"
             ],
             [
              0.4444444444444444,
              "#bd3786"
             ],
             [
              0.5555555555555556,
              "#d8576b"
             ],
             [
              0.6666666666666666,
              "#ed7953"
             ],
             [
              0.7777777777777778,
              "#fb9f3a"
             ],
             [
              0.8888888888888888,
              "#fdca26"
             ],
             [
              1,
              "#f0f921"
             ]
            ],
            "type": "contour"
           }
          ],
          "contourcarpet": [
           {
            "colorbar": {
             "outlinewidth": 0,
             "ticks": ""
            },
            "type": "contourcarpet"
           }
          ],
          "heatmap": [
           {
            "colorbar": {
             "outlinewidth": 0,
             "ticks": ""
            },
            "colorscale": [
             [
              0,
              "#0d0887"
             ],
             [
              0.1111111111111111,
              "#46039f"
             ],
             [
              0.2222222222222222,
              "#7201a8"
             ],
             [
              0.3333333333333333,
              "#9c179e"
             ],
             [
              0.4444444444444444,
              "#bd3786"
             ],
             [
              0.5555555555555556,
              "#d8576b"
             ],
             [
              0.6666666666666666,
              "#ed7953"
             ],
             [
              0.7777777777777778,
              "#fb9f3a"
             ],
             [
              0.8888888888888888,
              "#fdca26"
             ],
             [
              1,
              "#f0f921"
             ]
            ],
            "type": "heatmap"
           }
          ],
          "heatmapgl": [
           {
            "colorbar": {
             "outlinewidth": 0,
             "ticks": ""
            },
            "colorscale": [
             [
              0,
              "#0d0887"
             ],
             [
              0.1111111111111111,
              "#46039f"
             ],
             [
              0.2222222222222222,
              "#7201a8"
             ],
             [
              0.3333333333333333,
              "#9c179e"
             ],
             [
              0.4444444444444444,
              "#bd3786"
             ],
             [
              0.5555555555555556,
              "#d8576b"
             ],
             [
              0.6666666666666666,
              "#ed7953"
             ],
             [
              0.7777777777777778,
              "#fb9f3a"
             ],
             [
              0.8888888888888888,
              "#fdca26"
             ],
             [
              1,
              "#f0f921"
             ]
            ],
            "type": "heatmapgl"
           }
          ],
          "histogram": [
           {
            "marker": {
             "pattern": {
              "fillmode": "overlay",
              "size": 10,
              "solidity": 0.2
             }
            },
            "type": "histogram"
           }
          ],
          "histogram2d": [
           {
            "colorbar": {
             "outlinewidth": 0,
             "ticks": ""
            },
            "colorscale": [
             [
              0,
              "#0d0887"
             ],
             [
              0.1111111111111111,
              "#46039f"
             ],
             [
              0.2222222222222222,
              "#7201a8"
             ],
             [
              0.3333333333333333,
              "#9c179e"
             ],
             [
              0.4444444444444444,
              "#bd3786"
             ],
             [
              0.5555555555555556,
              "#d8576b"
             ],
             [
              0.6666666666666666,
              "#ed7953"
             ],
             [
              0.7777777777777778,
              "#fb9f3a"
             ],
             [
              0.8888888888888888,
              "#fdca26"
             ],
             [
              1,
              "#f0f921"
             ]
            ],
            "type": "histogram2d"
           }
          ],
          "histogram2dcontour": [
           {
            "colorbar": {
             "outlinewidth": 0,
             "ticks": ""
            },
            "colorscale": [
             [
              0,
              "#0d0887"
             ],
             [
              0.1111111111111111,
              "#46039f"
             ],
             [
              0.2222222222222222,
              "#7201a8"
             ],
             [
              0.3333333333333333,
              "#9c179e"
             ],
             [
              0.4444444444444444,
              "#bd3786"
             ],
             [
              0.5555555555555556,
              "#d8576b"
             ],
             [
              0.6666666666666666,
              "#ed7953"
             ],
             [
              0.7777777777777778,
              "#fb9f3a"
             ],
             [
              0.8888888888888888,
              "#fdca26"
             ],
             [
              1,
              "#f0f921"
             ]
            ],
            "type": "histogram2dcontour"
           }
          ],
          "mesh3d": [
           {
            "colorbar": {
             "outlinewidth": 0,
             "ticks": ""
            },
            "type": "mesh3d"
           }
          ],
          "parcoords": [
           {
            "line": {
             "colorbar": {
              "outlinewidth": 0,
              "ticks": ""
             }
            },
            "type": "parcoords"
           }
          ],
          "pie": [
           {
            "automargin": true,
            "type": "pie"
           }
          ],
          "scatter": [
           {
            "fillpattern": {
             "fillmode": "overlay",
             "size": 10,
             "solidity": 0.2
            },
            "type": "scatter"
           }
          ],
          "scatter3d": [
           {
            "line": {
             "colorbar": {
              "outlinewidth": 0,
              "ticks": ""
             }
            },
            "marker": {
             "colorbar": {
              "outlinewidth": 0,
              "ticks": ""
             }
            },
            "type": "scatter3d"
           }
          ],
          "scattercarpet": [
           {
            "marker": {
             "colorbar": {
              "outlinewidth": 0,
              "ticks": ""
             }
            },
            "type": "scattercarpet"
           }
          ],
          "scattergeo": [
           {
            "marker": {
             "colorbar": {
              "outlinewidth": 0,
              "ticks": ""
             }
            },
            "type": "scattergeo"
           }
          ],
          "scattergl": [
           {
            "marker": {
             "colorbar": {
              "outlinewidth": 0,
              "ticks": ""
             }
            },
            "type": "scattergl"
           }
          ],
          "scattermapbox": [
           {
            "marker": {
             "colorbar": {
              "outlinewidth": 0,
              "ticks": ""
             }
            },
            "type": "scattermapbox"
           }
          ],
          "scatterpolar": [
           {
            "marker": {
             "colorbar": {
              "outlinewidth": 0,
              "ticks": ""
             }
            },
            "type": "scatterpolar"
           }
          ],
          "scatterpolargl": [
           {
            "marker": {
             "colorbar": {
              "outlinewidth": 0,
              "ticks": ""
             }
            },
            "type": "scatterpolargl"
           }
          ],
          "scatterternary": [
           {
            "marker": {
             "colorbar": {
              "outlinewidth": 0,
              "ticks": ""
             }
            },
            "type": "scatterternary"
           }
          ],
          "surface": [
           {
            "colorbar": {
             "outlinewidth": 0,
             "ticks": ""
            },
            "colorscale": [
             [
              0,
              "#0d0887"
             ],
             [
              0.1111111111111111,
              "#46039f"
             ],
             [
              0.2222222222222222,
              "#7201a8"
             ],
             [
              0.3333333333333333,
              "#9c179e"
             ],
             [
              0.4444444444444444,
              "#bd3786"
             ],
             [
              0.5555555555555556,
              "#d8576b"
             ],
             [
              0.6666666666666666,
              "#ed7953"
             ],
             [
              0.7777777777777778,
              "#fb9f3a"
             ],
             [
              0.8888888888888888,
              "#fdca26"
             ],
             [
              1,
              "#f0f921"
             ]
            ],
            "type": "surface"
           }
          ],
          "table": [
           {
            "cells": {
             "fill": {
              "color": "#EBF0F8"
             },
             "line": {
              "color": "white"
             }
            },
            "header": {
             "fill": {
              "color": "#C8D4E3"
             },
             "line": {
              "color": "white"
             }
            },
            "type": "table"
           }
          ]
         },
         "layout": {
          "annotationdefaults": {
           "arrowcolor": "#2a3f5f",
           "arrowhead": 0,
           "arrowwidth": 1
          },
          "autotypenumbers": "strict",
          "coloraxis": {
           "colorbar": {
            "outlinewidth": 0,
            "ticks": ""
           }
          },
          "colorscale": {
           "diverging": [
            [
             0,
             "#8e0152"
            ],
            [
             0.1,
             "#c51b7d"
            ],
            [
             0.2,
             "#de77ae"
            ],
            [
             0.3,
             "#f1b6da"
            ],
            [
             0.4,
             "#fde0ef"
            ],
            [
             0.5,
             "#f7f7f7"
            ],
            [
             0.6,
             "#e6f5d0"
            ],
            [
             0.7,
             "#b8e186"
            ],
            [
             0.8,
             "#7fbc41"
            ],
            [
             0.9,
             "#4d9221"
            ],
            [
             1,
             "#276419"
            ]
           ],
           "sequential": [
            [
             0,
             "#0d0887"
            ],
            [
             0.1111111111111111,
             "#46039f"
            ],
            [
             0.2222222222222222,
             "#7201a8"
            ],
            [
             0.3333333333333333,
             "#9c179e"
            ],
            [
             0.4444444444444444,
             "#bd3786"
            ],
            [
             0.5555555555555556,
             "#d8576b"
            ],
            [
             0.6666666666666666,
             "#ed7953"
            ],
            [
             0.7777777777777778,
             "#fb9f3a"
            ],
            [
             0.8888888888888888,
             "#fdca26"
            ],
            [
             1,
             "#f0f921"
            ]
           ],
           "sequentialminus": [
            [
             0,
             "#0d0887"
            ],
            [
             0.1111111111111111,
             "#46039f"
            ],
            [
             0.2222222222222222,
             "#7201a8"
            ],
            [
             0.3333333333333333,
             "#9c179e"
            ],
            [
             0.4444444444444444,
             "#bd3786"
            ],
            [
             0.5555555555555556,
             "#d8576b"
            ],
            [
             0.6666666666666666,
             "#ed7953"
            ],
            [
             0.7777777777777778,
             "#fb9f3a"
            ],
            [
             0.8888888888888888,
             "#fdca26"
            ],
            [
             1,
             "#f0f921"
            ]
           ]
          },
          "colorway": [
           "#636efa",
           "#EF553B",
           "#00cc96",
           "#ab63fa",
           "#FFA15A",
           "#19d3f3",
           "#FF6692",
           "#B6E880",
           "#FF97FF",
           "#FECB52"
          ],
          "font": {
           "color": "#2a3f5f"
          },
          "geo": {
           "bgcolor": "white",
           "lakecolor": "white",
           "landcolor": "#E5ECF6",
           "showlakes": true,
           "showland": true,
           "subunitcolor": "white"
          },
          "hoverlabel": {
           "align": "left"
          },
          "hovermode": "closest",
          "mapbox": {
           "style": "light"
          },
          "paper_bgcolor": "white",
          "plot_bgcolor": "#E5ECF6",
          "polar": {
           "angularaxis": {
            "gridcolor": "white",
            "linecolor": "white",
            "ticks": ""
           },
           "bgcolor": "#E5ECF6",
           "radialaxis": {
            "gridcolor": "white",
            "linecolor": "white",
            "ticks": ""
           }
          },
          "scene": {
           "xaxis": {
            "backgroundcolor": "#E5ECF6",
            "gridcolor": "white",
            "gridwidth": 2,
            "linecolor": "white",
            "showbackground": true,
            "ticks": "",
            "zerolinecolor": "white"
           },
           "yaxis": {
            "backgroundcolor": "#E5ECF6",
            "gridcolor": "white",
            "gridwidth": 2,
            "linecolor": "white",
            "showbackground": true,
            "ticks": "",
            "zerolinecolor": "white"
           },
           "zaxis": {
            "backgroundcolor": "#E5ECF6",
            "gridcolor": "white",
            "gridwidth": 2,
            "linecolor": "white",
            "showbackground": true,
            "ticks": "",
            "zerolinecolor": "white"
           }
          },
          "shapedefaults": {
           "line": {
            "color": "#2a3f5f"
           }
          },
          "ternary": {
           "aaxis": {
            "gridcolor": "white",
            "linecolor": "white",
            "ticks": ""
           },
           "baxis": {
            "gridcolor": "white",
            "linecolor": "white",
            "ticks": ""
           },
           "bgcolor": "#E5ECF6",
           "caxis": {
            "gridcolor": "white",
            "linecolor": "white",
            "ticks": ""
           }
          },
          "title": {
           "x": 0.05
          },
          "xaxis": {
           "automargin": true,
           "gridcolor": "white",
           "linecolor": "white",
           "ticks": "",
           "title": {
            "standoff": 15
           },
           "zerolinecolor": "white",
           "zerolinewidth": 2
          },
          "yaxis": {
           "automargin": true,
           "gridcolor": "white",
           "linecolor": "white",
           "ticks": "",
           "title": {
            "standoff": 15
           },
           "zerolinecolor": "white",
           "zerolinewidth": 2
          }
         }
        },
        "title": {
         "text": "Importance"
        },
        "xaxis": {
         "anchor": "y",
         "domain": [
          0,
          1
         ],
         "title": {
          "text": "variables"
         }
        },
        "yaxis": {
         "anchor": "x",
         "domain": [
          0,
          1
         ],
         "title": {
          "text": "value"
         }
        }
       }
      }
     },
     "metadata": {},
     "output_type": "display_data"
    },
    {
     "data": {
      "image/png": "[encoded data removed]",
      "text/plain": [
       "<Figure size 640x480 with 1 Axes>"
      ]
     },
     "metadata": {},
     "output_type": "display_data"
    }
   ],
   "source": [
    "threshold = 0.005  # 0.5% threshold\n",
    "influential_components = []\n",
    "non_influential_components = []\n",
    "\n",
    "# Seuil d'importance\n",
    "threshold = 0.005\n",
    "\n",
    "important_components = []\n",
    "negligible_components = []\n",
    "\n",
    "for i, index in enumerate(total_sobol_indices):\n",
    "    if index > threshold:\n",
    "        influential_components.append(i)\n",
    "    else:\n",
    "        non_influential_components.append(i)\n",
    "\n",
    "print(\"Composantes importantes:\", nom_sources[influential_components])\n",
    "print(\"Composantes négligeables:\", nom_sources[non_influential_components])\n",
    "\n",
    "df1 = pd.DataFrame({})\n",
    "df1[\"value\"]=np.array(total_sobol_indices)\n",
    "df1[\"variables\"]=nom_sources_list\n",
    "df1[\"type\"]=[\"sobol\" for _ in range(len(nom_sources_list))]\n",
    "\n",
    "df2=pd.DataFrame({})\n",
    "df2[\"value\"]=(np.array(importance_factors))\n",
    "df2[\"variables\"]=(nom_sources_list)\n",
    "df2[\"type\"]=([\"taylor\" for _ in range(len(nom_sources_list))])\n",
    "\n",
    "df=df1.append(df2)\n",
    "fig = px.bar(df,x=\"variables\", y=\"value\",color=\"type\", title='Importance',barmode='group')\n",
    "sb.barplot(df,x=\"variables\", y=\"value\", hue=\"type\")\n",
    "fig.show()"
   ]
  },
  {
   "cell_type": "markdown",
   "metadata": {},
   "source": [
    "On souhaite tester le fait que certaines composantes de X ne sont pas influentes en les fixant à leur valeur moyenne dans le modèle et en comparant le modèle réduit ainsi obtenu au modèle initial.\n",
    "\n",
    "> 18. Construire le modèle réduit reliant les composantes influentes de X à M. On utilisera la classe ParametricFunction."
   ]
  },
  {
   "cell_type": "code",
   "execution_count": 583,
   "metadata": {},
   "outputs": [],
   "source": [
    "reduced_input_distribution = ot.ComposedDistribution([distribution_entrees.getMarginal(i) for i in influential_components])"
   ]
  },
  {
   "cell_type": "code",
   "execution_count": 584,
   "metadata": {},
   "outputs": [],
   "source": [
    "def constant_non_influential(input_distribution, non_influential_components):\n",
    "    mean_values=[]\n",
    "    for i in non_influential_components:\n",
    "        mean_values.append(input_distribution.getMarginal(i).getMean()[0])\n",
    "    return mean_values"
   ]
  },
  {
   "cell_type": "code",
   "execution_count": 585,
   "metadata": {},
   "outputs": [
    {
     "data": {
      "text/plain": [
       "[260.0, 0.0, 30.5, 0.75, 0.052500000000000005]"
      ]
     },
     "execution_count": 585,
     "metadata": {},
     "output_type": "execute_result"
    }
   ],
   "source": [
    "mean_values = constant_non_influential(distribution_entrees, non_influential_components)\n",
    "mean_values"
   ]
  },
  {
   "cell_type": "code",
   "execution_count": 586,
   "metadata": {},
   "outputs": [],
   "source": [
    "reduced_model = ot.ParametricFunction(symbolic_function, non_influential_components, mean_values)"
   ]
  },
  {
   "cell_type": "markdown",
   "metadata": {},
   "source": [
    "> 19. Extraire l’échantillon marginal correspondant à ces composantes de l’échantillon de test précédent."
   ]
  },
  {
   "cell_type": "code",
   "execution_count": 587,
   "metadata": {},
   "outputs": [],
   "source": [
    "test_sample = distribution_entrees.getSample(samplingSize)\n",
    "influential_test_sample = test_sample.getMarginal(influential_components)"
   ]
  },
  {
   "cell_type": "code",
   "execution_count": 588,
   "metadata": {},
   "outputs": [
    {
     "data": {
      "text/html": [
       "<TABLE><TR><TD></TD><TH>Sw</TH><TH>A</TH><TH>tc</TH><TH>Nz</TH><TH>Wdg</TH></TR>\n",
       "<TR><TH>0</TH><TD>155.9254</TD><TD>8.758062</TD><TD>0.1148086</TD><TD>4.555022</TD><TD>2453.43</TD></TR>\n",
       "<TR><TH>1</TH><TD>199.2227</TD><TD>7.020267</TD><TD>0.1256849</TD><TD>3.550483</TD><TD>1866.006</TD></TR>\n",
       "<TR><TH>2</TH><TD>198.6629</TD><TD>9.419082</TD><TD>0.1440815</TD><TD>4.62992</TD><TD>1834.964</TD></TR>\n",
       "<TR><TD COLSPAN=\"6\">...</TD></TR>\n",
       "<TR><TH>997</TH><TD>168.6764</TD><TD>6.516284</TD><TD>0.1379029</TD><TD>3.540662</TD><TD>2460.199</TD></TR>\n",
       "<TR><TH>998</TH><TD>194.7022</TD><TD>6.691963</TD><TD>0.1558347</TD><TD>5.976651</TD><TD>1749.83</TD></TR>\n",
       "<TR><TH>999</TH><TD>179.8538</TD><TD>9.912625</TD><TD>0.1504611</TD><TD>4.51243</TD><TD>1874.477</TD></TR>\n",
       "</TABLE>"
      ],
      "text/plain": [
       "class=Sample name=Unnamed implementation=class=SampleImplementation name=Unnamed size=1000 dimension=5 description=[Sw,A,tc,Nz,Wdg] data=[[155.925,8.75806,0.114809,4.55502,2453.43],[199.223,7.02027,0.125685,3.55048,1866.01],[198.663,9.41908,0.144081,4.62992,1834.96],...,[168.676,6.51628,0.137903,3.54066,2460.2],[194.702,6.69196,0.155835,5.97665,1749.83],[179.854,9.91262,0.150461,4.51243,1874.48]]"
      ]
     },
     "execution_count": 588,
     "metadata": {},
     "output_type": "execute_result"
    }
   ],
   "source": [
    "influential_test_sample"
   ]
  },
  {
   "cell_type": "markdown",
   "metadata": {},
   "source": [
    "> 20. En utilisant le modèle réduit comme méta-modèle du modèle initial, valider graphiquement le fait qu’on puisse fixer les entrées incertaines non influentes à leur valeur moyenne. Que vaut le coefficient de détermination?"
   ]
  },
  {
   "cell_type": "code",
   "execution_count": 589,
   "metadata": {},
   "outputs": [
    {
     "name": "stdout",
     "output_type": "stream",
     "text": [
      "Coefficient of determination (R-squared): 0.993\n"
     ]
    }
   ],
   "source": [
    "from openturns import MetaModelValidation\n",
    "\n",
    "full_model_output = symbolic_function(test_sample)\n",
    "reduced_model_output = reduced_model(influential_test_sample)\n",
    "\n",
    "validation = MetaModelValidation(influential_test_sample, full_model_output, reduced_model)\n",
    "r_squared = validation.computePredictivityFactor()\n",
    "print(\"Coefficient of determination (R-squared):\", round(r_squared[0],3))"
   ]
  },
  {
   "cell_type": "code",
   "execution_count": 590,
   "metadata": {},
   "outputs": [
    {
     "data": {
      "image/png": "[encoded data removed]",
      "text/plain": [
       "class=GridLayout name=Unnamed nbRows=1 nbColumns=1 graphCollection=[class=Graph name=Unnamed implementation=class=GraphImplementation name=Unnamed title= xTitle=model 0 yTitle=metamodel axes=ON grid=ON legendposition= legendFontSize=1 drawables=[class=Drawable name=Unnamed implementation=class=Curve name=Unnamed derived from class=DrawableImplementation name=Unnamed legend= data=class=Sample name=Unnamed implementation=class=SampleImplementation name=Unnamed size=2 dimension=2 data=[[146.527,146.527],[422.098,422.098]] color=red fillStyle=solid lineStyle=solid pointStyle=none lineWidth=1,class=Drawable name=Unnamed implementation=class=Cloud name=Unnamed derived from class=DrawableImplementation name=Unnamed legend= data=class=Sample name=Unnamed implementation=class=SampleImplementation name=Unnamed size=1000 dimension=2 data=[[300.823,297.918],[240.004,240.591],[305.637,307.437],...,[227.644,224.593],[270.39,267.896],[286.395,289.18]] color=blue fillStyle=solid lineStyle=solid pointStyle=plus lineWidth=1]]"
      ]
     },
     "execution_count": 590,
     "metadata": {},
     "output_type": "execute_result"
    }
   ],
   "source": [
    "validation_graph = validation.drawValidation()\n",
    "validation_graph.setTitle(\"Validation graph: full model vs. reduced model\")\n",
    "validation_graph"
   ]
  },
  {
   "cell_type": "markdown",
   "metadata": {},
   "source": [
    "Le graphique de validation compare la sortie complète du modèle (axe x) avec la sortie réduite du modèle (axe y). Plus les points sont proches de la diagonale, plus le modèle réduit se rapproche du modèle complet, ce qui est le cas dans le graphique ci-dessus. La valeur calculée du coefficient de détermination fournit une mesure de la façon dont le modèle réduit explique la variabilité du modèle complet. Une valeur proche de 1 indique un bon ajustement."
   ]
  },
  {
   "cell_type": "markdown",
   "metadata": {},
   "source": [
    "## 3.4 Analyse d’un événement rare\n",
    "\n",
    "On souhaite garantir avec grande probabilité que la masse de l’aile reste en dessous d’une limite\n",
    "$M_{max} = 460$ lb. Pour cela, on souhaite calculer la probabilité de l’événement E = {M ≥ Mmax}.\n",
    "\n",
    "> 21. Construire l’événement E."
   ]
  },
  {
   "cell_type": "code",
   "execution_count": 591,
   "metadata": {},
   "outputs": [],
   "source": [
    "from openturns import ThresholdEvent\n",
    "\n",
    "M_max = 460\n",
    "E = ThresholdEvent(M, ot.GreaterOrEqual(), M_max)"
   ]
  },
  {
   "cell_type": "markdown",
   "metadata": {},
   "source": [
    "> 22. En utilisant la méthode FORM, calculer une approximation de la probabilité de E. Combien d’appels au modèle ont été nécessaires? On utilisera l’algorithme d’optimisation Cobyla initialisé au point moyen."
   ]
  },
  {
   "cell_type": "markdown",
   "metadata": {},
   "source": [
    "> 23. Calculer l’approximation donnée par SORM (formule de Breitung). L’effet des courbures est-il important?"
   ]
  },
  {
   "cell_type": "code",
   "execution_count": 592,
   "metadata": {},
   "outputs": [
    {
     "name": "stdout",
     "output_type": "stream",
     "text": [
      "Probability estimate using FORM : 0.00051\n",
      "Number of model evaluations : 6000\n"
     ]
    }
   ],
   "source": [
    "from openturns import Cobyla, FORM\n",
    "# Define the optimization algorithm\n",
    "optimization_algorithm = Cobyla()\n",
    "optimization_algorithm.setStartingPoint(distribution_entrees.getMean())\n",
    "\n",
    "# Perform FORM analysis\n",
    "form = FORM(optimization_algorithm, E, distribution_entrees.getMean())\n",
    "form.run()\n",
    "result_form = form.getResult()\n",
    "\n",
    "# Get the probability estimate and the number of function evaluations\n",
    "probability_estimate = result_form.getEventProbability()\n",
    "model_evaluations = symbolic_function.getEvaluationCallsNumber()-question_six_model_evaluations\n",
    "\n",
    "print(\"Probability estimate using FORM :\", round(probability_estimate,6))\n",
    "print(\"Number of model evaluations :\", model_evaluations)"
   ]
  },
  {
   "cell_type": "code",
   "execution_count": 593,
   "metadata": {},
   "outputs": [
    {
     "name": "stdout",
     "output_type": "stream",
     "text": [
      "Probability estimate using SORM (Breitung's formula) : 8.4e-05\n",
      "Model Evaluations : 6000\n",
      "Curvatures : [-0.225413,-1.06634e-16,0.000868082,0.0133133,0.0488448,0.0806298,0.522465,0.607584,0.693958,0.744964]#10\n"
     ]
    }
   ],
   "source": [
    "from openturns import SORM\n",
    "\n",
    "# Perform SORM analysis\n",
    "sorm = SORM(optimization_algorithm, E, distribution_entrees.getMean())\n",
    "sorm.run()\n",
    "sorm_result = sorm.getResult()\n",
    "\n",
    "# Get the probability estimate using Breitung's formula\n",
    "probability_estimate_sorm = sorm_result.getEventProbabilityBreitung()\n",
    "curvatures = sorm_result.getSortedCurvatures()\n",
    "model_evaluations = symbolic_function.getEvaluationCallsNumber()-question_six_model_evaluations\n",
    "\n",
    "print(\"Probability estimate using SORM (Breitung's formula) :\", round(probability_estimate_sorm,6))\n",
    "print(\"Model Evaluations :\", model_evaluations)\n",
    "print(\"Curvatures :\", curvatures)"
   ]
  },
  {
   "cell_type": "markdown",
   "metadata": {},
   "source": [
    "La différence entre les estimations de probabilité utilisant FORM et SORM (formule de Breitung) est significative :\n",
    "\n",
    "- Estimation de probabilité FORM : 5.0964172524139e-04\n",
    "- Estimation de probabilité SORM : 8.4145113541429e-05\n",
    "\n",
    "L'approximation SORM est d'un ordre de grandeur inférieure. Cela indique que l'effet des courbures est important dans ce cas. L'effet de courbure capture l'influence de la non-linéarité de la fonction d'état limite sur l'estimation de la probabilité. La méthode FORM étant une approximation de premier ordre, elle peut ne pas bien rendre compte de cet effet. C'est pourquoi la méthode SORM peut fournir une estimation plus précise dans les cas où l'effet de courbure est significatif."
   ]
  },
  {
   "cell_type": "markdown",
   "metadata": {},
   "source": [
    "> 24. Calculer les facteurs d’importance issus de l’approximation FORM. En appliquant le même critère de sélection que précédemment, quelles sont les variables influentes?"
   ]
  },
  {
   "cell_type": "code",
   "execution_count": 594,
   "metadata": {},
   "outputs": [
    {
     "name": "stdout",
     "output_type": "stream",
     "text": [
      "Important variables : [Sw,A,l,tc,Nz,Wdg,Wp]\n"
     ]
    },
    {
     "name": "stderr",
     "output_type": "stream",
     "text": [
      "/tmp/ipykernel_26600/2366555509.py:37: FutureWarning:\n",
      "\n",
      "The frame.append method is deprecated and will be removed from pandas in a future version. Use pandas.concat instead.\n",
      "\n"
     ]
    },
    {
     "data": {
      "application/vnd.plotly.v1+json": {
       "config": {
        "plotlyServerURL": "https://plot.ly"
       },
       "data": [
        {
         "alignmentgroup": "True",
         "hovertemplate": "type=sobol<br>variables=%{x}<br>value=%{y}<extra></extra>",
         "legendgroup": "sobol",
         "marker": {
          "color": "#636efa",
          "pattern": {
           "shape": ""
          }
         },
         "name": "sobol",
         "offsetgroup": "sobol",
         "orientation": "v",
         "showlegend": true,
         "textposition": "auto",
         "type": "bar",
         "x": [
          "Sw",
          "Wfw",
          "A",
          "Lambda",
          "q",
          "l",
          "tc",
          "Nz",
          "Wdg",
          "Wp"
         ],
         "xaxis": "x",
         "y": [
          0.13073342608752467,
          0.0000032358442710134303,
          0.2272642939702871,
          0.0005226787098916752,
          0.00009021374518899346,
          0.001948224167757903,
          0.1501438724019277,
          0.45640353053186006,
          0.08299511634176508,
          0.003289224669827725
         ],
         "yaxis": "y"
        },
        {
         "alignmentgroup": "True",
         "hovertemplate": "type=taylor<br>variables=%{x}<br>value=%{y}<extra></extra>",
         "legendgroup": "taylor",
         "marker": {
          "color": "#EF553B",
          "pattern": {
           "shape": ""
          }
         },
         "name": "taylor",
         "offsetgroup": "taylor",
         "orientation": "v",
         "showlegend": true,
         "textposition": "auto",
         "type": "bar",
         "x": [
          "Sw",
          "Wfw",
          "A",
          "Lambda",
          "q",
          "l",
          "tc",
          "Nz",
          "Wdg",
          "Wp"
         ],
         "xaxis": "x",
         "y": [
          0.1303154458459419,
          0.000002940035041462363,
          0.2281527211460295,
          0,
          0.00008250531999446179,
          0.0018026881665796745,
          0.13500161092187157,
          0.4127941481942935,
          0.08833173210417389,
          0.0035162082660742198
         ],
         "yaxis": "y"
        },
        {
         "alignmentgroup": "True",
         "hovertemplate": "type=Form<br>variables=%{x}<br>value=%{y}<extra></extra>",
         "legendgroup": "Form",
         "marker": {
          "color": "#00cc96",
          "pattern": {
           "shape": ""
          }
         },
         "name": "Form",
         "offsetgroup": "Form",
         "orientation": "v",
         "showlegend": true,
         "textposition": "auto",
         "type": "bar",
         "x": [
          "Sw",
          "Wfw",
          "A",
          "Lambda",
          "q",
          "l",
          "tc",
          "Nz",
          "Wdg",
          "Wp"
         ],
         "xaxis": "x",
         "y": [
          0.1527029706778179,
          0.0008183300291580999,
          0.18827335840117992,
          0.000002989774405861432,
          0.004197059892331766,
          0.018477030692267162,
          0.26781935203553914,
          0.22585359445773828,
          0.12357180490350214,
          0.018283509136059736
         ],
         "yaxis": "y"
        }
       ],
       "layout": {
        "barmode": "group",
        "legend": {
         "title": {
          "text": "type"
         },
         "tracegroupgap": 0
        },
        "template": {
         "data": {
          "bar": [
           {
            "error_x": {
             "color": "#2a3f5f"
            },
            "error_y": {
             "color": "#2a3f5f"
            },
            "marker": {
             "line": {
              "color": "#E5ECF6",
              "width": 0.5
             },
             "pattern": {
              "fillmode": "overlay",
              "size": 10,
              "solidity": 0.2
             }
            },
            "type": "bar"
           }
          ],
          "barpolar": [
           {
            "marker": {
             "line": {
              "color": "#E5ECF6",
              "width": 0.5
             },
             "pattern": {
              "fillmode": "overlay",
              "size": 10,
              "solidity": 0.2
             }
            },
            "type": "barpolar"
           }
          ],
          "carpet": [
           {
            "aaxis": {
             "endlinecolor": "#2a3f5f",
             "gridcolor": "white",
             "linecolor": "white",
             "minorgridcolor": "white",
             "startlinecolor": "#2a3f5f"
            },
            "baxis": {
             "endlinecolor": "#2a3f5f",
             "gridcolor": "white",
             "linecolor": "white",
             "minorgridcolor": "white",
             "startlinecolor": "#2a3f5f"
            },
            "type": "carpet"
           }
          ],
          "choropleth": [
           {
            "colorbar": {
             "outlinewidth": 0,
             "ticks": ""
            },
            "type": "choropleth"
           }
          ],
          "contour": [
           {
            "colorbar": {
             "outlinewidth": 0,
             "ticks": ""
            },
            "colorscale": [
             [
              0,
              "#0d0887"
             ],
             [
              0.1111111111111111,
              "#46039f"
             ],
             [
              0.2222222222222222,
              "#7201a8"
             ],
             [
              0.3333333333333333,
              "#9c179e"
             ],
             [
              0.4444444444444444,
              "#bd3786"
             ],
             [
              0.5555555555555556,
              "#d8576b"
             ],
             [
              0.6666666666666666,
              "#ed7953"
             ],
             [
              0.7777777777777778,
              "#fb9f3a"
             ],
             [
              0.8888888888888888,
              "#fdca26"
             ],
             [
              1,
              "#f0f921"
             ]
            ],
            "type": "contour"
           }
          ],
          "contourcarpet": [
           {
            "colorbar": {
             "outlinewidth": 0,
             "ticks": ""
            },
            "type": "contourcarpet"
           }
          ],
          "heatmap": [
           {
            "colorbar": {
             "outlinewidth": 0,
             "ticks": ""
            },
            "colorscale": [
             [
              0,
              "#0d0887"
             ],
             [
              0.1111111111111111,
              "#46039f"
             ],
             [
              0.2222222222222222,
              "#7201a8"
             ],
             [
              0.3333333333333333,
              "#9c179e"
             ],
             [
              0.4444444444444444,
              "#bd3786"
             ],
             [
              0.5555555555555556,
              "#d8576b"
             ],
             [
              0.6666666666666666,
              "#ed7953"
             ],
             [
              0.7777777777777778,
              "#fb9f3a"
             ],
             [
              0.8888888888888888,
              "#fdca26"
             ],
             [
              1,
              "#f0f921"
             ]
            ],
            "type": "heatmap"
           }
          ],
          "heatmapgl": [
           {
            "colorbar": {
             "outlinewidth": 0,
             "ticks": ""
            },
            "colorscale": [
             [
              0,
              "#0d0887"
             ],
             [
              0.1111111111111111,
              "#46039f"
             ],
             [
              0.2222222222222222,
              "#7201a8"
             ],
             [
              0.3333333333333333,
              "#9c179e"
             ],
             [
              0.4444444444444444,
              "#bd3786"
             ],
             [
              0.5555555555555556,
              "#d8576b"
             ],
             [
              0.6666666666666666,
              "#ed7953"
             ],
             [
              0.7777777777777778,
              "#fb9f3a"
             ],
             [
              0.8888888888888888,
              "#fdca26"
             ],
             [
              1,
              "#f0f921"
             ]
            ],
            "type": "heatmapgl"
           }
          ],
          "histogram": [
           {
            "marker": {
             "pattern": {
              "fillmode": "overlay",
              "size": 10,
              "solidity": 0.2
             }
            },
            "type": "histogram"
           }
          ],
          "histogram2d": [
           {
            "colorbar": {
             "outlinewidth": 0,
             "ticks": ""
            },
            "colorscale": [
             [
              0,
              "#0d0887"
             ],
             [
              0.1111111111111111,
              "#46039f"
             ],
             [
              0.2222222222222222,
              "#7201a8"
             ],
             [
              0.3333333333333333,
              "#9c179e"
             ],
             [
              0.4444444444444444,
              "#bd3786"
             ],
             [
              0.5555555555555556,
              "#d8576b"
             ],
             [
              0.6666666666666666,
              "#ed7953"
             ],
             [
              0.7777777777777778,
              "#fb9f3a"
             ],
             [
              0.8888888888888888,
              "#fdca26"
             ],
             [
              1,
              "#f0f921"
             ]
            ],
            "type": "histogram2d"
           }
          ],
          "histogram2dcontour": [
           {
            "colorbar": {
             "outlinewidth": 0,
             "ticks": ""
            },
            "colorscale": [
             [
              0,
              "#0d0887"
             ],
             [
              0.1111111111111111,
              "#46039f"
             ],
             [
              0.2222222222222222,
              "#7201a8"
             ],
             [
              0.3333333333333333,
              "#9c179e"
             ],
             [
              0.4444444444444444,
              "#bd3786"
             ],
             [
              0.5555555555555556,
              "#d8576b"
             ],
             [
              0.6666666666666666,
              "#ed7953"
             ],
             [
              0.7777777777777778,
              "#fb9f3a"
             ],
             [
              0.8888888888888888,
              "#fdca26"
             ],
             [
              1,
              "#f0f921"
             ]
            ],
            "type": "histogram2dcontour"
           }
          ],
          "mesh3d": [
           {
            "colorbar": {
             "outlinewidth": 0,
             "ticks": ""
            },
            "type": "mesh3d"
           }
          ],
          "parcoords": [
           {
            "line": {
             "colorbar": {
              "outlinewidth": 0,
              "ticks": ""
             }
            },
            "type": "parcoords"
           }
          ],
          "pie": [
           {
            "automargin": true,
            "type": "pie"
           }
          ],
          "scatter": [
           {
            "fillpattern": {
             "fillmode": "overlay",
             "size": 10,
             "solidity": 0.2
            },
            "type": "scatter"
           }
          ],
          "scatter3d": [
           {
            "line": {
             "colorbar": {
              "outlinewidth": 0,
              "ticks": ""
             }
            },
            "marker": {
             "colorbar": {
              "outlinewidth": 0,
              "ticks": ""
             }
            },
            "type": "scatter3d"
           }
          ],
          "scattercarpet": [
           {
            "marker": {
             "colorbar": {
              "outlinewidth": 0,
              "ticks": ""
             }
            },
            "type": "scattercarpet"
           }
          ],
          "scattergeo": [
           {
            "marker": {
             "colorbar": {
              "outlinewidth": 0,
              "ticks": ""
             }
            },
            "type": "scattergeo"
           }
          ],
          "scattergl": [
           {
            "marker": {
             "colorbar": {
              "outlinewidth": 0,
              "ticks": ""
             }
            },
            "type": "scattergl"
           }
          ],
          "scattermapbox": [
           {
            "marker": {
             "colorbar": {
              "outlinewidth": 0,
              "ticks": ""
             }
            },
            "type": "scattermapbox"
           }
          ],
          "scatterpolar": [
           {
            "marker": {
             "colorbar": {
              "outlinewidth": 0,
              "ticks": ""
             }
            },
            "type": "scatterpolar"
           }
          ],
          "scatterpolargl": [
           {
            "marker": {
             "colorbar": {
              "outlinewidth": 0,
              "ticks": ""
             }
            },
            "type": "scatterpolargl"
           }
          ],
          "scatterternary": [
           {
            "marker": {
             "colorbar": {
              "outlinewidth": 0,
              "ticks": ""
             }
            },
            "type": "scatterternary"
           }
          ],
          "surface": [
           {
            "colorbar": {
             "outlinewidth": 0,
             "ticks": ""
            },
            "colorscale": [
             [
              0,
              "#0d0887"
             ],
             [
              0.1111111111111111,
              "#46039f"
             ],
             [
              0.2222222222222222,
              "#7201a8"
             ],
             [
              0.3333333333333333,
              "#9c179e"
             ],
             [
              0.4444444444444444,
              "#bd3786"
             ],
             [
              0.5555555555555556,
              "#d8576b"
             ],
             [
              0.6666666666666666,
              "#ed7953"
             ],
             [
              0.7777777777777778,
              "#fb9f3a"
             ],
             [
              0.8888888888888888,
              "#fdca26"
             ],
             [
              1,
              "#f0f921"
             ]
            ],
            "type": "surface"
           }
          ],
          "table": [
           {
            "cells": {
             "fill": {
              "color": "#EBF0F8"
             },
             "line": {
              "color": "white"
             }
            },
            "header": {
             "fill": {
              "color": "#C8D4E3"
             },
             "line": {
              "color": "white"
             }
            },
            "type": "table"
           }
          ]
         },
         "layout": {
          "annotationdefaults": {
           "arrowcolor": "#2a3f5f",
           "arrowhead": 0,
           "arrowwidth": 1
          },
          "autotypenumbers": "strict",
          "coloraxis": {
           "colorbar": {
            "outlinewidth": 0,
            "ticks": ""
           }
          },
          "colorscale": {
           "diverging": [
            [
             0,
             "#8e0152"
            ],
            [
             0.1,
             "#c51b7d"
            ],
            [
             0.2,
             "#de77ae"
            ],
            [
             0.3,
             "#f1b6da"
            ],
            [
             0.4,
             "#fde0ef"
            ],
            [
             0.5,
             "#f7f7f7"
            ],
            [
             0.6,
             "#e6f5d0"
            ],
            [
             0.7,
             "#b8e186"
            ],
            [
             0.8,
             "#7fbc41"
            ],
            [
             0.9,
             "#4d9221"
            ],
            [
             1,
             "#276419"
            ]
           ],
           "sequential": [
            [
             0,
             "#0d0887"
            ],
            [
             0.1111111111111111,
             "#46039f"
            ],
            [
             0.2222222222222222,
             "#7201a8"
            ],
            [
             0.3333333333333333,
             "#9c179e"
            ],
            [
             0.4444444444444444,
             "#bd3786"
            ],
            [
             0.5555555555555556,
             "#d8576b"
            ],
            [
             0.6666666666666666,
             "#ed7953"
            ],
            [
             0.7777777777777778,
             "#fb9f3a"
            ],
            [
             0.8888888888888888,
             "#fdca26"
            ],
            [
             1,
             "#f0f921"
            ]
           ],
           "sequentialminus": [
            [
             0,
             "#0d0887"
            ],
            [
             0.1111111111111111,
             "#46039f"
            ],
            [
             0.2222222222222222,
             "#7201a8"
            ],
            [
             0.3333333333333333,
             "#9c179e"
            ],
            [
             0.4444444444444444,
             "#bd3786"
            ],
            [
             0.5555555555555556,
             "#d8576b"
            ],
            [
             0.6666666666666666,
             "#ed7953"
            ],
            [
             0.7777777777777778,
             "#fb9f3a"
            ],
            [
             0.8888888888888888,
             "#fdca26"
            ],
            [
             1,
             "#f0f921"
            ]
           ]
          },
          "colorway": [
           "#636efa",
           "#EF553B",
           "#00cc96",
           "#ab63fa",
           "#FFA15A",
           "#19d3f3",
           "#FF6692",
           "#B6E880",
           "#FF97FF",
           "#FECB52"
          ],
          "font": {
           "color": "#2a3f5f"
          },
          "geo": {
           "bgcolor": "white",
           "lakecolor": "white",
           "landcolor": "#E5ECF6",
           "showlakes": true,
           "showland": true,
           "subunitcolor": "white"
          },
          "hoverlabel": {
           "align": "left"
          },
          "hovermode": "closest",
          "mapbox": {
           "style": "light"
          },
          "paper_bgcolor": "white",
          "plot_bgcolor": "#E5ECF6",
          "polar": {
           "angularaxis": {
            "gridcolor": "white",
            "linecolor": "white",
            "ticks": ""
           },
           "bgcolor": "#E5ECF6",
           "radialaxis": {
            "gridcolor": "white",
            "linecolor": "white",
            "ticks": ""
           }
          },
          "scene": {
           "xaxis": {
            "backgroundcolor": "#E5ECF6",
            "gridcolor": "white",
            "gridwidth": 2,
            "linecolor": "white",
            "showbackground": true,
            "ticks": "",
            "zerolinecolor": "white"
           },
           "yaxis": {
            "backgroundcolor": "#E5ECF6",
            "gridcolor": "white",
            "gridwidth": 2,
            "linecolor": "white",
            "showbackground": true,
            "ticks": "",
            "zerolinecolor": "white"
           },
           "zaxis": {
            "backgroundcolor": "#E5ECF6",
            "gridcolor": "white",
            "gridwidth": 2,
            "linecolor": "white",
            "showbackground": true,
            "ticks": "",
            "zerolinecolor": "white"
           }
          },
          "shapedefaults": {
           "line": {
            "color": "#2a3f5f"
           }
          },
          "ternary": {
           "aaxis": {
            "gridcolor": "white",
            "linecolor": "white",
            "ticks": ""
           },
           "baxis": {
            "gridcolor": "white",
            "linecolor": "white",
            "ticks": ""
           },
           "bgcolor": "#E5ECF6",
           "caxis": {
            "gridcolor": "white",
            "linecolor": "white",
            "ticks": ""
           }
          },
          "title": {
           "x": 0.05
          },
          "xaxis": {
           "automargin": true,
           "gridcolor": "white",
           "linecolor": "white",
           "ticks": "",
           "title": {
            "standoff": 15
           },
           "zerolinecolor": "white",
           "zerolinewidth": 2
          },
          "yaxis": {
           "automargin": true,
           "gridcolor": "white",
           "linecolor": "white",
           "ticks": "",
           "title": {
            "standoff": 15
           },
           "zerolinecolor": "white",
           "zerolinewidth": 2
          }
         }
        },
        "title": {
         "text": "Importance"
        },
        "xaxis": {
         "anchor": "y",
         "domain": [
          0,
          1
         ],
         "title": {
          "text": "variables"
         }
        },
        "yaxis": {
         "anchor": "x",
         "domain": [
          0,
          1
         ],
         "title": {
          "text": "value"
         }
        }
       }
      }
     },
     "metadata": {},
     "output_type": "display_data"
    },
    {
     "data": {
      "image/png": "[encoded data removed]",
      "text/plain": [
       "<Figure size 640x480 with 1 Axes>"
      ]
     },
     "metadata": {},
     "output_type": "display_data"
    }
   ],
   "source": [
    "# Importance Threshold\n",
    "threshold = 0.005\n",
    "\n",
    "# Compute the gradient at the design point\n",
    "design_point_standard_space = result_form.getStandardSpaceDesignPoint()\n",
    "\n",
    "# We should first transform the design point back to the physical space before evaluating the model\n",
    "design_point_physical_space = distribution_entrees.getInverseIsoProbabilisticTransformation()(design_point_standard_space)\n",
    "\n",
    "finite_difference_gradient_model = CenteredFiniteDifferenceGradient(epsilon, symbolic_function.getEvaluation())\n",
    "gradient = finite_difference_gradient_model.gradient(design_point_physical_space)\n",
    "\n",
    "# Calculate the importance factors\n",
    "marginal_standard_deviations = distribution_entrees.getStandardDeviation()\n",
    "importance_factors_form = []\n",
    "for i in range(distribution_entrees.getDimension()):\n",
    "    factor = abs(gradient[i, 0]) * marginal_standard_deviations[i]\n",
    "    importance_factors_form.append(factor)\n",
    "importance_factors_form = ot.Point(importance_factors_form)\n",
    "importance_factors_form /= sum(importance_factors_form)\n",
    "\n",
    "# Apply the selection criterion (importance factor > 0.5%)\n",
    "important_variables = []\n",
    "for i, factor in enumerate(importance_factors_form):\n",
    "    if factor >= threshold:\n",
    "        important_variables.append(i)\n",
    "\n",
    "print(\"Important variables :\", nom_sources[important_variables])\n",
    "\n",
    "\n",
    "\n",
    "df3 = pd.DataFrame({})\n",
    "df3[\"value\"]=(np.array(importance_factors_form))\n",
    "df3[\"variables\"]=(nom_sources_list)\n",
    "df3[\"type\"]=([\"Form\" for _ in range(len(nom_sources_list))])\n",
    "\n",
    "df4 = df.append(df3)\n",
    "fig = px.bar(df4,x=\"variables\", y=\"value\",color=\"type\", title='Importance',barmode='group')\n",
    "sb.barplot(df4,x=\"variables\", y=\"value\", hue=\"type\")\n",
    "fig.show()"
   ]
  },
  {
   "cell_type": "markdown",
   "metadata": {},
   "source": [
    "> 25. En utilisant un tirage préférentiel couplé à une variable de contrôle construite à partir du résultat de la méthode FORM, estimer la probabilité de E avec un coefficient de variation de 0.1, une taille de bloc de 10 et un nombre maximum d’itérations de 105. Combien d’appels au modèle ont été nécessaires pour cette étape ? En tout, en comptabilisant ceux du calcul FORM ? Comparer avec le nombre d’appels qu’aurait nécessité la méthode de Monte Carlo standard."
   ]
  },
  {
   "cell_type": "markdown",
   "metadata": {},
   "source": [
    "$\\color{blue}{\\text{Je suis pas sûr de comprendre ce qu'est le coefficient de variation, donc pas sûr de mon résultat.}}$"
   ]
  },
  {
   "cell_type": "code",
   "execution_count": 595,
   "metadata": {},
   "outputs": [
    {
     "data": {
      "text/html": [
       "<p>probabilityEstimate=4.642301e-05 varianceEstimate=4.084779e-11 standard deviation=6.39e-06 coefficient of variation=1.38e-01 confidenceLength(0.95)=2.51e-05 outerSampling=105 blockSize=10</p>"
      ],
      "text/plain": [
       "probabilityEstimate=4.642301e-05 varianceEstimate=4.084779e-11 standard deviation=6.39e-06 coefficient of variation=1.38e-01 confidenceLength(0.95)=2.51e-05 outerSampling=105 blockSize=10"
      ]
     },
     "execution_count": 595,
     "metadata": {},
     "output_type": "execute_result"
    }
   ],
   "source": [
    "# Définir la taille de bloc et le nombre maximum d'itérations\n",
    "block_size = 10\n",
    "max_iterations = 105\n",
    "max_coeff_variation = 0.1\n",
    "\n",
    "cis = ot.PostAnalyticalImportanceSampling(result_form)\n",
    "\n",
    "#algo = ot.ProbabilitySimulationAlgorithm(E, experiment)\n",
    "cis.setBlockSize(block_size)\n",
    "cis.setMaximumCoefficientOfVariation(max_coeff_variation)\n",
    "cis.setMaximumOuterSampling(max_iterations) # pas sûr\n",
    "cis.run()\n",
    "cis.getResult()"
   ]
  },
  {
   "cell_type": "markdown",
   "metadata": {},
   "source": [
    "Pour cette étape, 105 appels au modèle ont été nécessaire, et en tout, en comptabilisant ceux du calcul FORM, 6 105 appels au modèle ont été nécessaires."
   ]
  },
  {
   "cell_type": "markdown",
   "metadata": {},
   "source": [
    "La méthode de Monte-Carlo standard permet d'estimer la probabilité p de l'évènement E à l'aide de l'intervalle de confiance à 95% suivant :\n",
    "$$[p- 1.96 \\frac{\\sigma}{\\sqrt{n}} ; p + 1.96 \\frac{\\sigma}{\\sqrt{n}}] \\text{ où } \\sigma = \\sqrt{p(1-p}$$\n",
    "\n",
    "Pour obtenir un coefficient de variation de 0.1, il aurait donc fallu un nombre n d'appels au modèle donné par l'équation :\n",
    "$$1.96 \\frac{\\sqrt{p(1-p}}{n} = \\frac{p}{10}$$\n",
    "soit :\n",
    "$$10 \\times 1.96^{2} p(1-p) = p^{2} n$$\n",
    "ou encore :\n",
    "$$n = \\frac{10 \\times 1.96^{2} (1-p)}{p}$$\n",
    "et finalement :\n",
    "$$n \\sim \\frac{40}{p} \\sim 500 000$$\n",
    "\n",
    "La méthode standard de Monte-Carlo aurait donc nécessité moins d'appels au modèle (de l'ordre de 2 fois moins) que l'utilisation d'un tirage préférentiel couplé à une variable de contrôle construite à partir du résultat de la méthode FORM."
   ]
  },
  {
   "cell_type": "markdown",
   "metadata": {},
   "source": [
    "> 26. Bonus : reprendre ces calculs en utilisant le modèle réduit dans lequel les variables jugées peu influentes ont été fixées à leur valeur moyenne. Est-ce que la probabilité de E a beaucoup changé (erreur relative)?"
   ]
  },
  {
   "cell_type": "code",
   "execution_count": 596,
   "metadata": {},
   "outputs": [],
   "source": [
    "X_reduced = ot.RandomVector(reduced_input_distribution)\n",
    "M_reduced = ot.CompositeRandomVector(reduced_model, X_reduced)"
   ]
  },
  {
   "cell_type": "code",
   "execution_count": 597,
   "metadata": {},
   "outputs": [],
   "source": [
    "M_max = 460\n",
    "E_reduced = ThresholdEvent(M_reduced, ot.GreaterOrEqual(), M_max)"
   ]
  },
  {
   "cell_type": "code",
   "execution_count": 598,
   "metadata": {},
   "outputs": [
    {
     "name": "stdout",
     "output_type": "stream",
     "text": [
      "Number of reduced model evaluations : 159\n"
     ]
    }
   ],
   "source": [
    "# Run the FORM analysis with the reduced model\n",
    "former_model_evaluations = symbolic_function.getEvaluationCallsNumber()\n",
    "\n",
    "algo_form_reduced = ot.FORM(ot.Cobyla(), E_reduced, reduced_input_distribution.getMean())\n",
    "algo_form_reduced.run()\n",
    "result_form_reduced = algo_form_reduced.getResult()\n",
    "\n",
    "current_model_evaluations = symbolic_function.getEvaluationCallsNumber()\n",
    "reduced_model_evaluations = current_model_evaluations-former_model_evaluations\n",
    "\n",
    "print(\"Number of reduced model evaluations :\", reduced_model_evaluations)"
   ]
  },
  {
   "cell_type": "code",
   "execution_count": 599,
   "metadata": {},
   "outputs": [
    {
     "data": {
      "text/html": [
       "<p>probabilityEstimate=3.625302e-05 varianceEstimate=2.551450e-11 standard deviation=5.05e-06 coefficient of variation=1.39e-01 confidenceLength(0.95)=1.98e-05 outerSampling=105 blockSize=10</p>"
      ],
      "text/plain": [
       "probabilityEstimate=3.625302e-05 varianceEstimate=2.551450e-11 standard deviation=5.05e-06 coefficient of variation=1.39e-01 confidenceLength(0.95)=1.98e-05 outerSampling=105 blockSize=10"
      ]
     },
     "execution_count": 599,
     "metadata": {},
     "output_type": "execute_result"
    }
   ],
   "source": [
    "# Définir la taille de bloc et le nombre maximum d'itérations\n",
    "block_size = 10\n",
    "max_iterations = 105\n",
    "max_coeff_variation = 0.1\n",
    "\n",
    "cis_reduced = ot.PostAnalyticalImportanceSampling(result_form_reduced)\n",
    "\n",
    "#algo = ot.ProbabilitySimulationAlgorithm(E, experiment)\n",
    "cis_reduced.setBlockSize(block_size)\n",
    "cis_reduced.setMaximumCoefficientOfVariation(max_coeff_variation)\n",
    "cis_reduced.setMaximumOuterSampling(max_iterations) # pas sûr\n",
    "cis_reduced.run()\n",
    "cis_reduced.getResult()"
   ]
  },
  {
   "cell_type": "markdown",
   "metadata": {},
   "source": [
    "Utiliser le modèle réduit a permis de réduire le nombre d'appels au modèle, en n'en réalisant que 264, tout en conservant une bonne estimation de la probabilité recherchée (30% d'erreur relative)."
   ]
  }
 ],
 "metadata": {
  "kernelspec": {
   "display_name": "Python 3 (ipykernel)",
   "language": "python",
   "name": "python3"
  },
  "language_info": {
   "codemirror_mode": {
    "name": "ipython",
    "version": 3
   },
   "file_extension": ".py",
   "mimetype": "text/x-python",
   "name": "python",
   "nbconvert_exporter": "python",
   "pygments_lexer": "ipython3",
   "version": "3.10.8"
  },
  "vscode": {
   "interpreter": {
    "hash": "9a6878e63a2d4e4af3109c7c65cb38db3cc665a20b64c5e7cdc2120306605ba6"
   }
  }
 },
 "nbformat": 4,
 "nbformat_minor": 2
}
